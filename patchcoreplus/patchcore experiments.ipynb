{
 "cells": [
  {
   "cell_type": "code",
   "execution_count": 363,
   "id": "62973e1a",
   "metadata": {},
   "outputs": [],
   "source": [
    "import abc\n",
    "from typing import Union\n",
    "import numpy as np\n",
    "import torch\n",
    "from tqdm import tqdm\n",
    "\n",
    "class CoresetSampler():\n",
    "    def __init__(\n",
    "        self,\n",
    "        distance_type: str,\n",
    "        coreset_size: float,\n",
    "        device: torch.device,\n",
    "        number_of_starting_points: int = 10,\n",
    "        coreset_search_dimension_map = 128,\n",
    "    ):\n",
    "        \"\"\"Greedy Coreset sampling base class.\"\"\"\n",
    "\n",
    "        self.device = device\n",
    "        self.distance_type = distance_type\n",
    "        self.coreset_search_dimension_map = coreset_search_dimension_map\n",
    "        self.coreset_size = coreset_size\n",
    "        self.number_of_starting_points = number_of_starting_points\n",
    "        print(\"CoresetSampler distance type: \", self.distance_type)\n",
    "        \n",
    "    def _store_type(self, features: Union[torch.Tensor, np.ndarray]) -> None:\n",
    "        self.features_is_numpy = isinstance(features, np.ndarray)\n",
    "        if not self.features_is_numpy:\n",
    "            self.features_device = features.device\n",
    "\n",
    "    def _restore_type(self, features: torch.Tensor) -> Union[torch.Tensor, np.ndarray]:\n",
    "        if self.features_is_numpy:\n",
    "            return features.cpu().numpy()\n",
    "        return features.to(self.features_device)\n",
    "    \n",
    "    def _reduce_features(self, features):\n",
    "        if features.shape[1] == self.coreset_search_dimension_map:\n",
    "            return features\n",
    "        mapper = torch.nn.Linear(\n",
    "            features.shape[1], self.coreset_search_dimension_map, bias=False\n",
    "        )\n",
    "        _ = mapper.to(self.device)\n",
    "        features = features.to(self.device)\n",
    "        return mapper(features)\n",
    "\n",
    "    def run(\n",
    "        self, features: Union[torch.Tensor, np.ndarray]\n",
    "    ) -> Union[torch.Tensor, np.ndarray]:\n",
    "        \"\"\"Subsamples features using Greedy Coreset.\n",
    "\n",
    "        Args:\n",
    "            features: [N x D]\n",
    "        \"\"\"\n",
    "\n",
    "        self._store_type(features)\n",
    "        if isinstance(features, np.ndarray):\n",
    "            features = torch.from_numpy(features)\n",
    "        reduced_features = self._reduce_features(features)\n",
    "        sample_indices = self._compute_greedy_coreset_indices(reduced_features)\n",
    "        features = features[sample_indices]\n",
    "        return self._restore_type(features)\n",
    "    \n",
    "    def _compute_batchwise_differences(self, matrix_a: torch.Tensor, matrix_b: torch.Tensor):\n",
    "        if self.distance_type == \"euclidean\":\n",
    "            return self._compute_euclidean_distances_original(matrix_a, matrix_b)\n",
    "        \n",
    "        if self.distance_type == \"euclidean_new\":\n",
    "            return self._compute_batchwise_euclidean_distances_new(matrix_a, matrix_b)\n",
    "        \n",
    "        if self.distance_type == \"cosine\":\n",
    "            return self._compute_batchwise_cosine_distance(matrix_a, matrix_b)\n",
    "        \n",
    "        if self.distance_type == \"manhatten\":\n",
    "            return self._compute_minkowski_distance(matrix_a, matrix_b, p=1)\n",
    "        \n",
    "        if self.distance_type == \"minkowski3\":\n",
    "            return self._compute_minkowski_distance(matrix_a, matrix_b, p=3)\n",
    "        \n",
    "    @staticmethod\n",
    "    def _compute_euclidean_distances_original(\n",
    "        matrix_a: torch.Tensor, matrix_b: torch.Tensor\n",
    "    ) -> torch.Tensor:\n",
    "        \"\"\"Computes batchwise Euclidean distances using PyTorch.\"\"\"\n",
    "        a_times_a = matrix_a.unsqueeze(1).bmm(matrix_a.unsqueeze(2)).reshape(-1, 1)\n",
    "        b_times_b = matrix_b.unsqueeze(1).bmm(matrix_b.unsqueeze(2)).reshape(1, -1)\n",
    "        a_times_b = matrix_a.mm(matrix_b.T)\n",
    "\n",
    "        return (-2 * a_times_b + a_times_a + b_times_b).clamp(0, None).sqrt()\n",
    "    \n",
    "    @staticmethod\n",
    "    def _compute_batchwise_euclidean_distances_new(matrix_a, matrix_b):\n",
    "        # Squared norms of each row in matrix_a and matrix_b\n",
    "        a_times_a = (matrix_a ** 2).sum(dim=1, keepdim=True)\n",
    "        b_times_b = (matrix_b ** 2).sum(dim=1, keepdim=True).T\n",
    "\n",
    "        # Dot product between each pair of rows from matrix_a and matrix_b\n",
    "        a_times_b = matrix_a @ matrix_b.T\n",
    "\n",
    "        # Compute the squared Euclidean distances\n",
    "        distances_squared = a_times_a - 2 * a_times_b + b_times_b\n",
    "\n",
    "        # Ensure distances are non-negative and compute the Euclidean distances\n",
    "        distances = distances_squared.clamp(min=0).sqrt()\n",
    "\n",
    "        return distances\n",
    "    \n",
    "    @staticmethod\n",
    "    def _compute_batchwise_cosine_distance(matrix_a, matrix_b):\n",
    "    \n",
    "        set1_normalized = matrix_a / matrix_a.norm(dim=1)[:, None]\n",
    "        set2_normalized = matrix_b / matrix_b.norm(dim=1)[:, None]\n",
    "\n",
    "        # Calculate the cosine similarity using dot product\n",
    "        cosine_similarities = torch.mm(set1_normalized, set2_normalized.t())\n",
    "\n",
    "        # Calculate the cosine distances (1 - cosine similarity)\n",
    "        cosine_distances = 1 - cosine_similarities\n",
    "\n",
    "        return cosine_distances\n",
    "    \n",
    "    \n",
    "    @staticmethod\n",
    "    def _compute_minkowski_distance(matrix_a, matrix_b, p=3):\n",
    "        # Broadcasting to compute pairwise distances\n",
    "        distances = torch.cdist(matrix_a, matrix_b, p=p)\n",
    "        return distances\n",
    "\n",
    "    def _compute_greedy_coreset_indices(self, features: torch.Tensor) -> np.ndarray:\n",
    "        \"\"\"Runs approximate iterative greedy coreset selection.\n",
    "\n",
    "        This greedy coreset implementation does not require computation of the\n",
    "        full N x N distance matrix and thus requires a lot less memory, however\n",
    "        at the cost of increased sampling times.\n",
    "\n",
    "        Args:\n",
    "            features: [NxD] input feature bank to sample.\n",
    "        \"\"\"\n",
    "        print(\"features.shape\", features.shape)\n",
    "        number_of_starting_points = np.clip(\n",
    "            self.number_of_starting_points, None, len(features)\n",
    "        )\n",
    "        start_points = np.random.choice(\n",
    "            len(features), number_of_starting_points, replace=False\n",
    "        ).tolist()\n",
    "\n",
    "        approximate_distance_matrix = self._compute_batchwise_differences(\n",
    "            features, features[start_points]\n",
    "        )\n",
    "        approximate_coreset_anchor_distances = torch.mean(\n",
    "            approximate_distance_matrix, axis=-1\n",
    "        ).reshape(-1, 1)\n",
    "        coreset_indices = []\n",
    "        \n",
    "        num_coreset_samples = int(self.coreset_size)\n",
    "\n",
    "        with torch.no_grad():\n",
    "            for _ in tqdm(range(num_coreset_samples), desc=\"Subsampling...\"):\n",
    "                select_idx = torch.argmax(approximate_coreset_anchor_distances).item()\n",
    "                coreset_indices.append(select_idx)\n",
    "                coreset_select_distance = self._compute_batchwise_differences(\n",
    "                    features, features[select_idx : select_idx + 1]  # noqa: E203\n",
    "                )\n",
    "                approximate_coreset_anchor_distances = torch.cat(\n",
    "                    [approximate_coreset_anchor_distances, coreset_select_distance],\n",
    "                    dim=-1,\n",
    "                )\n",
    "                approximate_coreset_anchor_distances = torch.min(\n",
    "                    approximate_coreset_anchor_distances, dim=1\n",
    "                ).values.reshape(-1, 1)\n",
    "\n",
    "        return np.array(coreset_indices)"
   ]
  },
  {
   "cell_type": "code",
   "execution_count": 247,
   "id": "4151e1a4",
   "metadata": {},
   "outputs": [],
   "source": [
    "import copy\n",
    "import os\n",
    "import pickle\n",
    "from typing import List\n",
    "from typing import Union\n",
    "from xml.dom import NotFoundErr\n",
    "\n",
    "import faiss\n",
    "import numpy as np\n",
    "import scipy.ndimage as ndimage\n",
    "import torch\n",
    "import torch.nn.functional as F\n",
    "\n",
    "\n",
    "class FaissNNnew(object):\n",
    "    def __init__(self, distance_type, on_gpu: bool = False, num_workers: int = 4) -> None:\n",
    "        \"\"\"FAISS Nearest neighbourhood search.\n",
    "\n",
    "        Args:\n",
    "            on_gpu: If set true, nearest neighbour searches are done on GPU.\n",
    "            num_workers: Number of workers to use with FAISS for similarity search.\n",
    "        \"\"\"\n",
    "        faiss.omp_set_num_threads(num_workers)\n",
    "        self.distance_type = distance_type\n",
    "        self.on_gpu = on_gpu\n",
    "        self.search_index = None\n",
    "        print(\"FaissNN distance type: \", self.distance_type)\n",
    "\n",
    "    def _gpu_cloner_options(self):\n",
    "        return faiss.GpuClonerOptions()\n",
    "\n",
    "    def _index_to_gpu(self, index):\n",
    "        if self.on_gpu:\n",
    "            # For the non-gpu faiss python package, there is no GpuClonerOptions\n",
    "            # so we can not make a default in the function header.\n",
    "            return faiss.index_cpu_to_gpu(\n",
    "                faiss.StandardGpuResources(), 0, index, self._gpu_cloner_options()\n",
    "            )\n",
    "        return index\n",
    "\n",
    "    def _index_to_cpu(self, index):\n",
    "        if self.on_gpu:\n",
    "            return faiss.index_gpu_to_cpu(index)\n",
    "        return index\n",
    "\n",
    "    @staticmethod\n",
    "    def normalize_L2(vectors):\n",
    "        return vectors\n",
    "            \n",
    "    def _create_index(self, dimension):\n",
    "        if self.on_gpu:\n",
    "            if self.distance_type==\"euclidean\":\n",
    "                return faiss.GpuIndexFlatL2(\n",
    "                    faiss.StandardGpuResources(), dimension, faiss.GpuIndexFlatConfig()\n",
    "                )\n",
    "            elif self.distance_type==\"cosine\":\n",
    "                print(\"returning the IP index\")\n",
    "                return faiss.GpuIndexFlatIP(faiss.StandardGpuResources(), \n",
    "                                            dimension, \n",
    "                                            faiss.GpuIndexFlatConfig())  # or faiss.IndexFlatIP(d) for CPU\n",
    "        else:\n",
    "            if self.distance_type==\"euclidean\":\n",
    "                return faiss.IndexFlatL2(dimension)\n",
    "            elif self.distance_type==\"cosine\":\n",
    "                print(\"returning the IP index\")\n",
    "                return faiss.IndexFlatIP(dimension)  # or faiss.IndexFlatIP(d) for CPU\n",
    "                \n",
    "        raise NotImplemented(\"unimplemented distance type selected\")\n",
    "        \n",
    "\n",
    "    def fit(self, features: np.ndarray) -> None:\n",
    "        \"\"\"\n",
    "        Adds features to the FAISS search index.\n",
    "\n",
    "        Args:\n",
    "            features: Array of size NxD.\n",
    "        \"\"\"\n",
    "        if self.search_index:\n",
    "            self.reset_index()\n",
    "        self.search_index = self._create_index(features.shape[-1])\n",
    "        self._train(self.search_index, features)\n",
    "        \n",
    "        print(\"\\n\\n\\nFeatures are being fit to the FAISNNnew\\n\\n\\n\")\n",
    "        self.raw_features = features\n",
    "        if self.distance_type==\"cosine\":\n",
    "            features = self.normalize_L2(features)\n",
    "            \n",
    "        self.search_index.add(features)\n",
    "\n",
    "    def _train(self, _index, _features):\n",
    "        pass\n",
    "\n",
    "    def run(\n",
    "        self,\n",
    "        n_nearest_neighbours,\n",
    "        query_features: np.ndarray,\n",
    "        index_features: np.ndarray = None,\n",
    "    ) -> Union[np.ndarray, np.ndarray, np.ndarray]:\n",
    "        \"\"\"\n",
    "        Returns distances and indices of nearest neighbour search.\n",
    "\n",
    "        Args:\n",
    "            query_features: Features to retrieve.\n",
    "            index_features: [optional] Index features to search in.\n",
    "        \"\"\"\n",
    "        self.on_gpu = False\n",
    "        if index_features is None:\n",
    "            if self.distance_type == \"cosine\":\n",
    "                query_features = self.normalize_L2(query_features)\n",
    "                return 1/self.search_index.search(query_features, n_nearest_neighbours)\n",
    "            else:\n",
    "                return self.search_index.search(query_features, n_nearest_neighbours)\n",
    "\n",
    "    def save(self, filename: str) -> None:\n",
    "        faiss.write_index(self._index_to_cpu(self.search_index), filename)\n",
    "        \n",
    "    def load(self, filename: str) -> None:\n",
    "        self.search_index = self._index_to_gpu(faiss.read_index(filename))\n",
    "\n",
    "    def reset_index(self):\n",
    "        if self.search_index:\n",
    "            self.search_index.reset()\n",
    "            self.search_index = None"
   ]
  },
  {
   "cell_type": "code",
   "execution_count": 365,
   "id": "a2645ad0",
   "metadata": {},
   "outputs": [],
   "source": [
    "'''\n",
    "Based on code found here: https://github.com/amazon-science/patchcore-inspection\n",
    "And based on the the paper: \n",
    "https://arxiv.org/pdf/2106.08265v2.pdf\n",
    "@misc{roth2021total,\n",
    "      title={Towards Total Recall in Industrial Anomaly Detection},\n",
    "      author={Karsten Roth and Latha Pemula and Joaquin Zepeda and Bernhard Schölkopf and Thomas Brox and Peter Gehler},\n",
    "      year={2021},\n",
    "      eprint={2106.08265},\n",
    "      archivePrefix={arXiv},\n",
    "      primaryClass={cs.CV}\n",
    "}\n",
    "'''\n",
    "import numpy as np\n",
    "import torch\n",
    "import os\n",
    "import pickle\n",
    "import sys\n",
    "sys.path.append(\"/mnt/faster0/adjt20/VisionAD\")\n",
    "from algos.model_wrapper import ModelWrapper\n",
    "from tqdm import tqdm\n",
    "from algos.patchcore import backbones\n",
    "from algos.patchcore import common\n",
    "from algos.patchcore.patchcore import PatchMaker\n",
    "# from algos.patchcore import sampler\n",
    "from algos.patchcore import utils\n",
    "import tempfile\n",
    "import shutil\n",
    "\n",
    "class WrapperPatchCorePlus(ModelWrapper):\n",
    "    def  __init__(self, load_model_params=True, **params):\n",
    "        super(ModelWrapper, self).__init__()\n",
    "        if load_model_params:\n",
    "            self.load_model_params(**params)\n",
    "        self.default_segmentation = \"segmentations\"\n",
    "        self.default_score = \"scores\"\n",
    "\n",
    "    def load_model_params(self, **params):\n",
    "        self.__name__ = \"PatchCore\"\n",
    "        self.params = params\n",
    "        sampler = CoresetSampler(distance_type = self.params[\"distance_type\"],\n",
    "                                         coreset_size = self.params[\"coreset_size\"], \n",
    "                                         device       = self.params[\"device\"], \n",
    "                                         coreset_search_dimension_map = self.params[\"coreset_search_dimension_map\"])\n",
    "        \n",
    "        size = (3,params[\"input_size\"],params[\"input_size\"])\n",
    "        \n",
    "        self.PatchCore_list = patch_core(params)(size, sampler, params[\"device\"])\n",
    "\n",
    "        for PatchCore in self.PatchCore_list:\n",
    "            torch.cuda.empty_cache()\n",
    "            if PatchCore.backbone.seed is not None:\n",
    "                utils.fix_seeds(PatchCore.backbone.seed, params[\"device\"])\n",
    "\n",
    "    def save_model(self, location):\n",
    "        os.makedirs(location, exist_ok=True)\n",
    "        self.save_params(location)\n",
    "        os.makedirs(os.path.join(location, \"features\"), exist_ok=True)\n",
    "        for i, PatchCore in enumerate(self.PatchCore_list):\n",
    "            prepend = str(f\"ensemble{i}_\")\n",
    "            PatchCore.save_to_path(os.path.join(location, \"features\"), prepend)\n",
    "\n",
    "#     def load_model(self, location, **kwargs):\n",
    "#         params = self.load_params(location)\n",
    "#         self.load_model_params(**params)\n",
    "\n",
    "#         faiss_on_gpu = False\n",
    "#         faiss_num_workers = 8\n",
    "#         device = params[\"device\"]\n",
    "\n",
    "#         files = os.listdir(os.path.join(location, \"features\"))\n",
    "#         self.PatchCore_list = []\n",
    "#         for i, file in enumerate(files):\n",
    "#             if not \"patchcore_params.pkl\" in file:\n",
    "#                 continue\n",
    "#             prepend = file.split(\"_\")[0]+\"_\"\n",
    "#             nn_method = common.FaissNN(faiss_on_gpu, faiss_num_workers)\n",
    "#             patchcore_instance = PatchCore(device)\n",
    "#             patchcore_instance.load_from_path(os.path.join(location, \"features\"), device, nn_method, prepend=prepend)\n",
    "#             self.PatchCore_list.append(patchcore_instance)\n",
    "\n",
    "    def train_one_epoch(self):\n",
    "        '''\n",
    "        This model actually does no 'training'. It just gathers the features using the pre-trained backbone.\n",
    "        This action of doing this makes more sense in the pre_eval_processing part\n",
    "        '''\n",
    "        pass\n",
    "\n",
    "    def pre_eval_processing(self,):\n",
    "        for i, PatchCore in enumerate(self.PatchCore_list):\n",
    "            PatchCore.fit(self.dataloader_train)\n",
    "\n",
    "        ''' \n",
    "        Save the model\n",
    "        Reload it with faiss_on_gpu = False\n",
    "        A bug in faiss means it keeps crashing during inference when a GPU is used. \n",
    "        The only way I found around this is to save it and \n",
    "        reload it with faiss_on_gpu=False, and device=\"cpu\" \n",
    "        '''\n",
    "    \n",
    "        if not self.params[\"nn_code\"]==\"faiss\":\n",
    "            pass\n",
    "        else:\n",
    "            location = os.path.join(tempfile.gettempdir(), f\"patchcore_internal_save_point_{str(np.random.rand())[2:]}\")\n",
    "            if os.path.exists(location): \n",
    "                shutil.rmtree(location)\n",
    "            while os.path.exists(location): \n",
    "                pass\n",
    "            self.save_model(location)\n",
    "            self.load_model(location, faiss_on_gpu=False, faiss_num_workers=8, device=\"cpu\")\n",
    "            shutil.rmtree(location)\n",
    "            while os.path.exists(location):\n",
    "                pass\n",
    "\n",
    "    def _predict(self, PatchCore, dataloader, len_dataloader, verbose=False, limit=None):\n",
    "        paths_ret = []\n",
    "        scores    = []\n",
    "        for ind, (data, _) in tqdm(enumerate(dataloader), total=len_dataloader):\n",
    "            torch.cuda.empty_cache()\n",
    "            _scores, _segmentations = PatchCore._predict(data)\n",
    "            _scores, _segmentations = _scores.to(\"cpu\"), _segmentations.to(\"cpu\")\n",
    "            scores += [score.item() for score in _scores]\n",
    "\n",
    "            if ind==0:\n",
    "                segmentations_set = _segmentations\n",
    "            else:\n",
    "                segmentations_set = torch.vstack([segmentations_set, _segmentations])\n",
    "            if limit:\n",
    "                if ind>limit:\n",
    "                    break\n",
    "        return scores, segmentations_set\n",
    "\n",
    "    def eval_outputs_dataloader(self, dataloader, len_dataloader, verbose=False, limit=None):\n",
    "        aggregator = {\"scores\": [], \"segmentations\": []}\n",
    "        for i, PatchCore in enumerate(self.PatchCore_list):\n",
    "            \n",
    "            torch.cuda.empty_cache()\n",
    "            PatchCore.anomaly_scorer.nn_method.faiss_on_gpu = False            \n",
    "            scores, segmentationss = self._predict(\n",
    "                PatchCore,\n",
    "                dataloader,\n",
    "                len_dataloader,\n",
    "                verbose=verbose,\n",
    "                limit=limit,\n",
    "            )\n",
    "\n",
    "            # targets and paths are the same whichever model we extract from\n",
    "            # therefore we only need to stack scores and segmentations for manipulation later\n",
    "            aggregator[\"scores\"].append(scores)\n",
    "            aggregator[\"segmentations\"].append(segmentationss)\n",
    "\n",
    "            \n",
    "        scores = np.array(aggregator[\"scores\"])\n",
    "        # min_scores = scores.min(axis=-1).reshape(-1, 1)\n",
    "        # max_scores = scores.max(axis=-1).reshape(-1, 1)\n",
    "        # scores_normalised = (scores - min_scores) / (max_scores - min_scores)\n",
    "        # scores_normalised = np.mean(scores_normalised, axis=0)\n",
    "\n",
    "        segmentations = torch.stack(aggregator[\"segmentations\"]).numpy()\n",
    "\n",
    "        # the normalisation of the segmentations and scores is removed\n",
    "        # it makes no sense when the regular and anomaly dataloader are evaluated seperately\n",
    "        segmentations = np.mean(segmentations, axis=0)\n",
    "        scores        = np.mean(scores, axis=0)\n",
    "\n",
    "        return {\"segmentations\":torch.tensor(segmentations).unsqueeze(1)}, {\"scores\": scores}\n",
    "\n",
    "class PatchCore(torch.nn.Module):\n",
    "    def __init__(self, device):\n",
    "        \"\"\"PatchCore anomaly detection class.\"\"\"\n",
    "        super(PatchCore, self).__init__()\n",
    "        self.device = device\n",
    "\n",
    "    def load(\n",
    "        self,\n",
    "        backbone,\n",
    "        layers_to_extract_from,\n",
    "        device,\n",
    "        input_shape,\n",
    "        pretrain_embed_dimension,\n",
    "        target_embed_dimension,\n",
    "        patchsize=3,\n",
    "        patchstride=1,\n",
    "        anomaly_score_num_nn=1,\n",
    "        featuresampler=None,\n",
    "        nn_method=None,\n",
    "        nn_code=\"faiss\",\n",
    "        **kwargs,\n",
    "    ):\n",
    "        self.backbone = backbone.to(device)\n",
    "        self.layers_to_extract_from = layers_to_extract_from\n",
    "        self.input_shape = input_shape\n",
    "\n",
    "        self.device = device\n",
    "        self.patch_maker = PatchMaker(patchsize, stride=patchstride)\n",
    "\n",
    "        self.forward_modules = torch.nn.ModuleDict({})\n",
    "\n",
    "        feature_aggregator = common.NetworkFeatureAggregator(\n",
    "            self.backbone, self.layers_to_extract_from, self.device\n",
    "        )\n",
    "        feature_dimensions = feature_aggregator.feature_dimensions(input_shape)\n",
    "        self.forward_modules[\"feature_aggregator\"] = feature_aggregator\n",
    "\n",
    "        preprocessing = common.Preprocessing(\n",
    "            feature_dimensions, pretrain_embed_dimension\n",
    "        )\n",
    "        self.forward_modules[\"preprocessing\"] = preprocessing\n",
    "\n",
    "        self.target_embed_dimension = target_embed_dimension\n",
    "        preadapt_aggregator = common.Aggregator(\n",
    "            target_dim=target_embed_dimension\n",
    "        )\n",
    "\n",
    "        _ = preadapt_aggregator.to(self.device)\n",
    "\n",
    "        self.forward_modules[\"preadapt_aggregator\"] = preadapt_aggregator\n",
    "\n",
    "        self.anomaly_scorer = common.NearestNeighbourScorer(\n",
    "            n_nearest_neighbours=anomaly_score_num_nn, nn_method=nn_method\n",
    "        )\n",
    "\n",
    "        self.anomaly_segmentor = common.RescaleSegmentor(\n",
    "            device=self.device, target_size=input_shape[-2:]\n",
    "        )\n",
    "\n",
    "        self.featuresampler = featuresampler\n",
    "        \n",
    "        self.nn_code = nn_code \n",
    "        \n",
    "    def embed(self, data):\n",
    "        if isinstance(data, torch.utils.data.DataLoader):\n",
    "            features = []\n",
    "            for image in data:\n",
    "                if isinstance(image, dict):\n",
    "                    image = image[\"image\"]\n",
    "                with torch.no_grad():\n",
    "                    input_image = image.to(torch.float).to(self.device)\n",
    "                    features.append(self._embed(input_image))\n",
    "            return features\n",
    "        return self._embed(data)\n",
    "\n",
    "    def _embed(self, images, detach=True, provide_patch_shapes=False):\n",
    "        \"\"\"Returns feature embeddings for images.\"\"\"\n",
    "\n",
    "        def _detach(features):\n",
    "            if detach:\n",
    "                return [x.detach().cpu().numpy() for x in features]\n",
    "            return features\n",
    "\n",
    "        _ = self.forward_modules[\"feature_aggregator\"].eval()\n",
    "        with torch.no_grad():\n",
    "            features = self.forward_modules[\"feature_aggregator\"](images)\n",
    "\n",
    "        features = [features[layer] for layer in self.layers_to_extract_from]\n",
    "\n",
    "        features = [\n",
    "            self.patch_maker.patchify(x, return_spatial_info=True) for x in features\n",
    "        ]\n",
    "        patch_shapes = [x[1] for x in features]\n",
    "        features = [x[0] for x in features]\n",
    "        ref_num_patches = patch_shapes[0]\n",
    "\n",
    "        for i in range(1, len(features)):\n",
    "            _features = features[i]\n",
    "            patch_dims = patch_shapes[i]\n",
    "\n",
    "            # TODO(pgehler): Add comments\n",
    "            _features = _features.reshape(\n",
    "                _features.shape[0], patch_dims[0], patch_dims[1], *_features.shape[2:]\n",
    "            )\n",
    "            _features = _features.permute(0, -3, -2, -1, 1, 2)\n",
    "            perm_base_shape = _features.shape\n",
    "            _features = _features.reshape(-1, *_features.shape[-2:])\n",
    "            _features = F.interpolate(\n",
    "                _features.unsqueeze(1),\n",
    "                size=(ref_num_patches[0], ref_num_patches[1]),\n",
    "                mode=\"bilinear\",\n",
    "                align_corners=False,\n",
    "            )\n",
    "            _features = _features.squeeze(1)\n",
    "            _features = _features.reshape(\n",
    "                *perm_base_shape[:-2], ref_num_patches[0], ref_num_patches[1]\n",
    "            )\n",
    "            _features = _features.permute(0, -2, -1, 1, 2, 3)\n",
    "            _features = _features.reshape(len(_features), -1, *_features.shape[-3:])\n",
    "            features[i] = _features\n",
    "        features = [x.reshape(-1, *x.shape[-3:]) for x in features]\n",
    "\n",
    "        # As different feature backbones & patching provide differently\n",
    "        # sized features, these are brought into the correct form here.\n",
    "        features = self.forward_modules[\"preprocessing\"](features)\n",
    "        features = self.forward_modules[\"preadapt_aggregator\"](features)\n",
    "\n",
    "        if provide_patch_shapes:\n",
    "            return _detach(features), patch_shapes\n",
    "        return _detach(features)\n",
    "\n",
    "    def fit(self, training_dataloader):\n",
    "        \"\"\"PatchCore training.\n",
    "\n",
    "        This function computes the embeddings of the training data and fills the\n",
    "        memory bank of SPADE.\n",
    "        \"\"\"\n",
    "        self._fill_memory_bank(training_dataloader)\n",
    "\n",
    "    def _fill_memory_bank(self, training_dataloader):\n",
    "        \"\"\"Computes and sets the support features for SPADE.\"\"\"\n",
    "        _ = self.forward_modules.eval()\n",
    "\n",
    "        def _image_to_features(input_image):\n",
    "            with torch.no_grad():\n",
    "                input_image = input_image.to(torch.float).to(self.device)\n",
    "                return self._embed(input_image)\n",
    "\n",
    "        features = []\n",
    "        for ind, (data, targets, paths) in enumerate(training_dataloader):\n",
    "            features.append(_image_to_features(data))\n",
    "\n",
    "        features = np.concatenate(features, axis=0)\n",
    "        features = self.featuresampler.run(features)\n",
    "\n",
    "        if self.nn_code==\"faiss\":\n",
    "            self.anomaly_scorer.fit(detection_features=[features])\n",
    "        else:\n",
    "            self.coreset_feaures = torch.tensor(features).to(self.device)\n",
    "            \n",
    "    def _predict(self, images):\n",
    "        \"\"\"Infer score and mask for a batch of images.\"\"\"\n",
    "        images = images.to(torch.float).to(self.device)\n",
    "        _ = self.forward_modules.eval()\n",
    "\n",
    "        batchsize = images.shape[0]\n",
    "        \n",
    "        with torch.no_grad():\n",
    "            features, patch_shapes = self._embed(images, provide_patch_shapes=True)\n",
    "            features = np.asarray(features)\n",
    "            \n",
    "            if self.nn_code==\"faiss\":\n",
    "                patch_scores = image_scores = self.anomaly_scorer.predict([features])[0]\n",
    "            else:\n",
    "#                 patch_scores = image_scores = self.anomaly_scorer.predict([features])[0] \n",
    "                \n",
    "                distances_all = self.featuresampler._compute_batchwise_differences(\n",
    "                                                                        self.coreset_feaures, \n",
    "                                                                        torch.tensor(features).to(self.device))\n",
    "                patch_scores = image_scores = distances_all.min(0).values\n",
    "                image_scores = image_scores.to(\"cpu\").numpy()\n",
    "                \n",
    "                \n",
    "            image_scores = self.patch_maker.unpatch_scores(\n",
    "                image_scores, batchsize=batchsize\n",
    "            )\n",
    "            image_scores = image_scores.reshape(*image_scores.shape[:2], -1)\n",
    "            image_scores = self.patch_maker.score(image_scores)\n",
    "\n",
    "            patch_scores = self.patch_maker.unpatch_scores(\n",
    "                patch_scores, batchsize=batchsize\n",
    "            )\n",
    "            scales = patch_shapes[0]\n",
    "            patch_scores = patch_scores.reshape(batchsize, scales[0], scales[1])\n",
    "\n",
    "            masks = self.anomaly_segmentor.convert_to_segmentation(patch_scores)\n",
    "\n",
    "        return torch.tensor(np.array(image_scores)), torch.tensor(np.array(masks))\n",
    "\n",
    "    @staticmethod\n",
    "    def _params_file(filepath, prepend=\"\"):\n",
    "        return os.path.join(filepath, prepend + \"patchcore_params.pkl\")\n",
    "\n",
    "    def save_to_path(self, save_path: str, prepend: str = \"\") -> None:\n",
    "#         LOGGER.info(\"Saving PatchCore data.\")\n",
    "        self.anomaly_scorer.save(\n",
    "            save_path, save_features_separately=False, prepend=prepend\n",
    "        )\n",
    "        patchcore_params = {\n",
    "            \"backbone.name\": self.backbone.name,\n",
    "            \"layers_to_extract_from\": self.layers_to_extract_from,\n",
    "            \"input_shape\": self.input_shape,\n",
    "            \"pretrain_embed_dimension\": self.forward_modules[\n",
    "                \"preprocessing\"\n",
    "            ].output_dim,\n",
    "            \"target_embed_dimension\": self.forward_modules[\n",
    "                \"preadapt_aggregator\"\n",
    "            ].target_dim,\n",
    "            \"patchsize\": self.patch_maker.patchsize,\n",
    "            \"patchstride\": self.patch_maker.stride,\n",
    "            \"anomaly_scorer_num_nn\": self.anomaly_scorer.n_nearest_neighbours,\n",
    "        }\n",
    "        with open(self._params_file(save_path, prepend), \"wb\") as save_file:\n",
    "            pickle.dump(patchcore_params, save_file, pickle.HIGHEST_PROTOCOL)\n",
    "            \n",
    "    def load_from_path(\n",
    "        self,\n",
    "        load_path: str,\n",
    "        device: torch.device,\n",
    "        nn_method: common.FaissNN(False, 4),\n",
    "        prepend: str = \"\",\n",
    "    ) -> None:\n",
    "        LOGGER.info(\"Loading and initializing PatchCore.\")\n",
    "        with open(self._params_file(load_path, prepend), \"rb\") as load_file:\n",
    "            patchcore_params = pickle.load(load_file)\n",
    "        patchcore_params[\"backbone\"] = backbones.load(\n",
    "            patchcore_params[\"backbone.name\"]\n",
    "        )\n",
    "        patchcore_params[\"backbone\"].name = patchcore_params[\"backbone.name\"]\n",
    "        del patchcore_params[\"backbone.name\"]\n",
    "        self.load(**patchcore_params, device=device, nn_method=nn_method)\n",
    "\n",
    "        self.anomaly_scorer.load(load_path, prepend)\n",
    "\n",
    "def patch_core(params):\n",
    "    pretrain_embed_dimension = params[\"pretrain_embed_dimension\"]\n",
    "    target_embed_dimension = params[\"target_embed_dimension\"]\n",
    "    preprocessing = params[\"preprocessing\"]\n",
    "    aggregation = params[\"aggregation\"]\n",
    "    patchsize = params[\"patchsize\"]\n",
    "    patchscore = params[\"patchscore\"]\n",
    "    patchstride = params[\"patchstride\"]\n",
    "    patchoverlap = params[\"patchoverlap\"]\n",
    "    anomaly_scorer_num_nn = params[\"anomaly_scorer_num_nn\"]\n",
    "    patchsize_aggregate = params[\"patchsize_aggregate\"]\n",
    "    faiss_on_gpu = params[\"faiss_on_gpu\"]\n",
    "    faiss_num_workers = params[\"faiss_num_workers\"]\n",
    "    distance_type  = params[\"distance_type\"]\n",
    "    nn_code = params[\"nn_code\"]\n",
    "    backbone_names_layers = params[\"backbone_names_layers\"]\n",
    "\n",
    "    def get_patchcore(input_shape, sampler, device):\n",
    "        loaded_patchcores = []\n",
    "\n",
    "\n",
    "        for backbone_name, layers in backbone_names_layers.items():\n",
    "            backbone_seed = None\n",
    "            if \".seed-\" in backbone_name:\n",
    "                backbone_name, backbone_seed = backbone_name.split(\".seed-\")[0], int(\n",
    "                    backbone_name.split(\"-\")[-1]\n",
    "                )\n",
    "            backbone = backbones.load(backbone_name)\n",
    "            backbone.name, backbone.seed = backbone_name, backbone_seed\n",
    "            nn_method = FaissNNnew(distance_type, faiss_on_gpu, faiss_num_workers)\n",
    "\n",
    "            patchcore_instance = PatchCore(device)\n",
    "            patchcore_instance.load(\n",
    "                backbone=backbone,\n",
    "                layers_to_extract_from=layers,\n",
    "                device=device,\n",
    "                input_shape=input_shape,\n",
    "                pretrain_embed_dimension=pretrain_embed_dimension,\n",
    "                target_embed_dimension=target_embed_dimension,\n",
    "                patchsize=patchsize,\n",
    "                featuresampler=sampler,\n",
    "                patchstride=patchstride,\n",
    "                anomaly_scorer_num_nn=anomaly_scorer_num_nn,\n",
    "                nn_method=nn_method,\n",
    "                nn_code=nn_code,\n",
    "            )\n",
    "            loaded_patchcores.append(patchcore_instance)\n",
    "        print(\"len(loaded_patchcores):\", len(loaded_patchcores))\n",
    "        return loaded_patchcores\n",
    "    return get_patchcore"
   ]
  },
  {
   "cell_type": "code",
   "execution_count": 366,
   "id": "888b1ee4",
   "metadata": {},
   "outputs": [],
   "source": [
    "from data.configure_dataset import load_dataset\n",
    "# from algos.patchcore.algo_class import WrapperPatchCore\n",
    "from algos.patchcore._defaultconfigs import patchcore_default_model_params\n",
    "from torchvision import transforms\n",
    "from data.load_image_data import create_dataloaders, make_unnormalise\n",
    "from wrapper.wrapper import run_metrics\n",
    "from data.configure_dataset import load_dataset\n",
    "from PIL import Image\n",
    "\n",
    "image_size = 256\n",
    "\n",
    "def get_dataloaders(dataset_key, ad_device):\n",
    "    dataset = load_dataset(dataset_key)\n",
    "\n",
    "    model_parameters = {\"model_params\": patchcore_default_model_params,\n",
    "                        \"epochs\": 1,\n",
    "                        \"training_transformations\":  transforms.Compose([]),\n",
    "                        \"training_transformation_string\": \"transforms.Compose([])\",\n",
    "                        \"identical_transforms\": transforms.Compose([transforms.Resize((image_size, image_size), \n",
    "                                                                    interpolation=Image.NEAREST),\n",
    "                                                                    ]),\n",
    "                        \"batch_size\": 8,\n",
    "                        \"save_model_every_n_epochs\": None,\n",
    "                        \"save_heatmaps_n_epochs\": 0,\n",
    "                        \"evaluate_n_epochs\": 0,\n",
    "                        \"test_batch_size\": 8,\n",
    "                        \"use_gpu\": True,\n",
    "                        }\n",
    "\n",
    "    model_parameters[\"pre_pro_transforms\"] = transforms.Compose([transforms.Normalize(mean=dataset['mean'], \n",
    "                                                                                      std=dataset['std'])])\n",
    "\n",
    "    dataloader_train, dataloader_regular_test, dataloader_novel_test = create_dataloaders(                                                 \n",
    "                                                            pre_pro_transforms=model_parameters[\"pre_pro_transforms\"], \n",
    "                                                            training_transformations=model_parameters[\"training_transformations\"],\n",
    "                                                            identical_transforms=model_parameters[\"identical_transforms\"],\n",
    "                                                            batch_size = 8,\n",
    "                                                            shuffle = True,\n",
    "                                                            device = ad_device, \n",
    "                                                            unnormalise = make_unnormalise(mean=dataset['mean'], \n",
    "                                                                                           std=dataset['std']),\n",
    "                                                            test_batch_size = model_parameters[\"test_batch_size\"],\n",
    "                                                            **dataset)\n",
    "    \n",
    "    return dataloader_train, dataloader_regular_test, dataloader_novel_test "
   ]
  },
  {
   "cell_type": "code",
   "execution_count": 367,
   "id": "76ab607c",
   "metadata": {},
   "outputs": [],
   "source": [
    "params =  {\"results_path\":\"test_results\", #, type=str)\n",
    "            \"seed\":0, #, ,type=int, default=0, show_default=True)\n",
    "            \"log_group\":\"group\", #, type=str, default=\"group\")\n",
    "            \"log_project\":\"project\", #, type=str, default=\"project\")\n",
    "            \"backbone_names_layers\": {\"wideresnet50\": [\"layer2\", \"layer3\"]}, # each item must be a list of layers\n",
    "            \"pretrain_embed_dimension\":1024, #, type=int, default=1024)\n",
    "            \"target_embed_dimension\":1024, #, type=int, default=1024)\n",
    "            \"preprocessing\":\"mean\", #, type=click.Choice([\"mean\", \"conv\"]), default=\"mean\")\n",
    "            \"aggregation\":\"mean\", #, type=click.Choice([\"mean\", \"mlp\"]), default=\"mean\")\n",
    "            \"anomaly_scorer_num_nn\":5,#, ,type=int, default=5)\n",
    "            \"patchsize\":3, #, ,type=int, default=3)\n",
    "            \"patchstride\":1,\n",
    "            \"patchscore\":\"max\", # , type=str, default=\"max\")\n",
    "            \"patchoverlap\":0.0 ,#, type=float, default=0.0)\n",
    "            \"patchsize_aggregate\":[] ,#, \"-pa\", type=int, multiple=True, default=[])\n",
    "            \"faiss_on_gpu\": True,#, is_flag=True)\n",
    "            \"faiss_num_workers\":8, #, ,type=int, default=8)\n",
    "            \"num_workers\":8, #, ,default=8, type=int, show_default=True)\n",
    "            \"input_size\": 256,#, default=256, type=int, show_default=True)\n",
    "            \"augment\":True,#, is_flag=True)\n",
    "            \"coreset_size\": 25000, #, \"-p\", type=float, default=0.1, show_default=True)\n",
    "            \"distance_type\": \"euclidean\", #, \"-p\", type=float, default=0.1, show_default=True)\n",
    "            \"coreset_search_dimension_map\": 128,\n",
    "            \"nn_code\": \"new\",\n",
    "            }"
   ]
  },
  {
   "cell_type": "code",
   "execution_count": 368,
   "id": "8c025731",
   "metadata": {},
   "outputs": [
    {
     "name": "stdout",
     "output_type": "stream",
     "text": [
      "CoresetSampler distance type:  euclidean\n"
     ]
    },
    {
     "name": "stderr",
     "output_type": "stream",
     "text": [
      "/mnt/faster0/adjt20/ad_env/lib/python3.10/site-packages/torchvision/models/_utils.py:208: UserWarning: The parameter 'pretrained' is deprecated since 0.13 and may be removed in the future, please use 'weights' instead.\n",
      "  warnings.warn(\n",
      "/mnt/faster0/adjt20/ad_env/lib/python3.10/site-packages/torchvision/models/_utils.py:223: UserWarning: Arguments other than a weight enum or `None` for 'weights' are deprecated since 0.13 and may be removed in the future. The current behavior is equivalent to passing `weights=Wide_ResNet50_2_Weights.IMAGENET1K_V1`. You can also use `weights=Wide_ResNet50_2_Weights.DEFAULT` to get the most up-to-date weights.\n",
      "  warnings.warn(msg)\n"
     ]
    },
    {
     "name": "stdout",
     "output_type": "stream",
     "text": [
      "FaissNN distance type:  euclidean\n",
      "len(loaded_patchcores): 1\n",
      "features.shape torch.Size([25289, 128])\n"
     ]
    },
    {
     "name": "stderr",
     "output_type": "stream",
     "text": [
      "Subsampling...: 100%|█| 25000/25000 [00:04<0\n",
      "100%|█████████| 3/3 [00:00<00:00,  3.98it/s]\n",
      "100%|█████████| 8/8 [00:02<00:00,  2.87it/s]\n"
     ]
    },
    {
     "name": "stdout",
     "output_type": "stream",
     "text": [
      "Pixelwise_AUC:\n",
      "\tsegmentations: 0.9827473119926188\n",
      "PL:\n",
      "\tsegmentations: 0.9411764705882353\n",
      "\n",
      "Metric time taken:\n",
      "\n",
      "Pixelwise_AUC: 2.7s\n",
      "PL: 0.84s\n",
      "Not saved the metrics results\n",
      "CoresetSampler distance type:  euclidean\n"
     ]
    },
    {
     "name": "stderr",
     "output_type": "stream",
     "text": [
      "/mnt/faster0/adjt20/ad_env/lib/python3.10/site-packages/torchvision/models/_utils.py:208: UserWarning: The parameter 'pretrained' is deprecated since 0.13 and may be removed in the future, please use 'weights' instead.\n",
      "  warnings.warn(\n",
      "/mnt/faster0/adjt20/ad_env/lib/python3.10/site-packages/torchvision/models/_utils.py:223: UserWarning: Arguments other than a weight enum or `None` for 'weights' are deprecated since 0.13 and may be removed in the future. The current behavior is equivalent to passing `weights=Wide_ResNet50_2_Weights.IMAGENET1K_V1`. You can also use `weights=Wide_ResNet50_2_Weights.DEFAULT` to get the most up-to-date weights.\n",
      "  warnings.warn(msg)\n"
     ]
    },
    {
     "name": "stdout",
     "output_type": "stream",
     "text": [
      "FaissNN distance type:  euclidean\n",
      "len(loaded_patchcores): 1\n",
      "features.shape torch.Size([25289, 128])\n"
     ]
    },
    {
     "name": "stderr",
     "output_type": "stream",
     "text": [
      "Subsampling...: 100%|█| 25000/25000 [00:04<0\n",
      "100%|█████████| 3/3 [00:00<00:00,  3.18it/s]\n",
      "100%|█████████| 8/8 [00:03<00:00,  2.37it/s]\n"
     ]
    },
    {
     "name": "stdout",
     "output_type": "stream",
     "text": [
      "Pixelwise_AUC:\n",
      "\tsegmentations: 0.9797037762700336\n",
      "PL:\n",
      "\tsegmentations: 0.8970588235294118\n",
      "\n",
      "Metric time taken:\n",
      "\n",
      "Pixelwise_AUC: 2.5s\n",
      "PL: 0.82s\n",
      "Not saved the metrics results\n",
      "CoresetSampler distance type:  euclidean\n"
     ]
    },
    {
     "name": "stderr",
     "output_type": "stream",
     "text": [
      "/mnt/faster0/adjt20/ad_env/lib/python3.10/site-packages/torchvision/models/_utils.py:208: UserWarning: The parameter 'pretrained' is deprecated since 0.13 and may be removed in the future, please use 'weights' instead.\n",
      "  warnings.warn(\n",
      "/mnt/faster0/adjt20/ad_env/lib/python3.10/site-packages/torchvision/models/_utils.py:223: UserWarning: Arguments other than a weight enum or `None` for 'weights' are deprecated since 0.13 and may be removed in the future. The current behavior is equivalent to passing `weights=Wide_ResNet50_2_Weights.IMAGENET1K_V1`. You can also use `weights=Wide_ResNet50_2_Weights.DEFAULT` to get the most up-to-date weights.\n",
      "  warnings.warn(msg)\n"
     ]
    },
    {
     "name": "stdout",
     "output_type": "stream",
     "text": [
      "FaissNN distance type:  euclidean\n",
      "len(loaded_patchcores): 1\n",
      "features.shape torch.Size([10241, 128])\n"
     ]
    },
    {
     "name": "stderr",
     "output_type": "stream",
     "text": [
      "Subsampling...: 100%|█| 25000/25000 [00:04<0\n",
      "100%|█████████| 3/3 [00:00<00:00,  4.52it/s]\n",
      "100%|█████████| 8/8 [00:02<00:00,  3.42it/s]\n"
     ]
    },
    {
     "name": "stdout",
     "output_type": "stream",
     "text": [
      "Pixelwise_AUC:\n",
      "\tsegmentations: 0.9749483569890898\n",
      "PL:\n",
      "\tsegmentations: 0.8676470588235294\n",
      "\n",
      "Metric time taken:\n",
      "\n",
      "Pixelwise_AUC: 2.2s\n",
      "PL: 0.74s\n",
      "Not saved the metrics results\n",
      "CoresetSampler distance type:  euclidean\n"
     ]
    },
    {
     "name": "stderr",
     "output_type": "stream",
     "text": [
      "/mnt/faster0/adjt20/ad_env/lib/python3.10/site-packages/torchvision/models/_utils.py:208: UserWarning: The parameter 'pretrained' is deprecated since 0.13 and may be removed in the future, please use 'weights' instead.\n",
      "  warnings.warn(\n",
      "/mnt/faster0/adjt20/ad_env/lib/python3.10/site-packages/torchvision/models/_utils.py:223: UserWarning: Arguments other than a weight enum or `None` for 'weights' are deprecated since 0.13 and may be removed in the future. The current behavior is equivalent to passing `weights=Wide_ResNet50_2_Weights.IMAGENET1K_V1`. You can also use `weights=Wide_ResNet50_2_Weights.DEFAULT` to get the most up-to-date weights.\n",
      "  warnings.warn(msg)\n"
     ]
    },
    {
     "name": "stdout",
     "output_type": "stream",
     "text": [
      "FaissNN distance type:  euclidean\n",
      "len(loaded_patchcores): 1\n",
      "features.shape torch.Size([10241, 128])\n"
     ]
    },
    {
     "name": "stderr",
     "output_type": "stream",
     "text": [
      "Subsampling...: 100%|█| 25000/25000 [00:04<0\n",
      "100%|█████████| 3/3 [00:00<00:00,  3.65it/s]\n",
      "100%|█████████| 8/8 [00:02<00:00,  2.84it/s]\n"
     ]
    },
    {
     "name": "stdout",
     "output_type": "stream",
     "text": [
      "Pixelwise_AUC:\n",
      "\tsegmentations: 0.9741547660736122\n",
      "PL:\n",
      "\tsegmentations: 0.8676470588235294\n",
      "\n",
      "Metric time taken:\n",
      "\n",
      "Pixelwise_AUC: 2.4s\n",
      "PL: 0.82s\n",
      "Not saved the metrics results\n",
      "CoresetSampler distance type:  cosine\n"
     ]
    },
    {
     "name": "stderr",
     "output_type": "stream",
     "text": [
      "/mnt/faster0/adjt20/ad_env/lib/python3.10/site-packages/torchvision/models/_utils.py:208: UserWarning: The parameter 'pretrained' is deprecated since 0.13 and may be removed in the future, please use 'weights' instead.\n",
      "  warnings.warn(\n",
      "/mnt/faster0/adjt20/ad_env/lib/python3.10/site-packages/torchvision/models/_utils.py:223: UserWarning: Arguments other than a weight enum or `None` for 'weights' are deprecated since 0.13 and may be removed in the future. The current behavior is equivalent to passing `weights=Wide_ResNet50_2_Weights.IMAGENET1K_V1`. You can also use `weights=Wide_ResNet50_2_Weights.DEFAULT` to get the most up-to-date weights.\n",
      "  warnings.warn(msg)\n"
     ]
    },
    {
     "name": "stdout",
     "output_type": "stream",
     "text": [
      "FaissNN distance type:  cosine\n",
      "len(loaded_patchcores): 1\n",
      "features.shape torch.Size([25289, 128])\n"
     ]
    },
    {
     "name": "stderr",
     "output_type": "stream",
     "text": [
      "Subsampling...: 100%|█| 25000/25000 [00:04<0\n",
      "100%|█████████| 3/3 [00:00<00:00,  4.46it/s]\n",
      "100%|█████████| 8/8 [00:02<00:00,  3.47it/s]\n"
     ]
    },
    {
     "name": "stdout",
     "output_type": "stream",
     "text": [
      "Pixelwise_AUC:\n",
      "\tsegmentations: 0.9809497756865505\n",
      "PL:\n",
      "\tsegmentations: 0.9264705882352942\n",
      "\n",
      "Metric time taken:\n",
      "\n",
      "Pixelwise_AUC: 2.2s\n",
      "PL: 0.72s\n",
      "Not saved the metrics results\n",
      "CoresetSampler distance type:  cosine\n"
     ]
    },
    {
     "name": "stderr",
     "output_type": "stream",
     "text": [
      "/mnt/faster0/adjt20/ad_env/lib/python3.10/site-packages/torchvision/models/_utils.py:208: UserWarning: The parameter 'pretrained' is deprecated since 0.13 and may be removed in the future, please use 'weights' instead.\n",
      "  warnings.warn(\n",
      "/mnt/faster0/adjt20/ad_env/lib/python3.10/site-packages/torchvision/models/_utils.py:223: UserWarning: Arguments other than a weight enum or `None` for 'weights' are deprecated since 0.13 and may be removed in the future. The current behavior is equivalent to passing `weights=Wide_ResNet50_2_Weights.IMAGENET1K_V1`. You can also use `weights=Wide_ResNet50_2_Weights.DEFAULT` to get the most up-to-date weights.\n",
      "  warnings.warn(msg)\n"
     ]
    },
    {
     "name": "stdout",
     "output_type": "stream",
     "text": [
      "FaissNN distance type:  cosine\n",
      "len(loaded_patchcores): 1\n",
      "features.shape torch.Size([25289, 128])\n"
     ]
    },
    {
     "name": "stderr",
     "output_type": "stream",
     "text": [
      "Subsampling...: 100%|█| 25000/25000 [00:04<0\n",
      "100%|█████████| 3/3 [00:00<00:00,  3.38it/s]\n",
      "100%|█████████| 8/8 [00:03<00:00,  2.64it/s]\n"
     ]
    },
    {
     "name": "stdout",
     "output_type": "stream",
     "text": [
      "Pixelwise_AUC:\n",
      "\tsegmentations: 0.9762481477998438\n",
      "PL:\n",
      "\tsegmentations: 0.8676470588235294\n",
      "\n",
      "Metric time taken:\n",
      "\n",
      "Pixelwise_AUC: 2.8s\n",
      "PL: 0.69s\n",
      "Not saved the metrics results\n",
      "CoresetSampler distance type:  cosine\n"
     ]
    },
    {
     "name": "stderr",
     "output_type": "stream",
     "text": [
      "/mnt/faster0/adjt20/ad_env/lib/python3.10/site-packages/torchvision/models/_utils.py:208: UserWarning: The parameter 'pretrained' is deprecated since 0.13 and may be removed in the future, please use 'weights' instead.\n",
      "  warnings.warn(\n",
      "/mnt/faster0/adjt20/ad_env/lib/python3.10/site-packages/torchvision/models/_utils.py:223: UserWarning: Arguments other than a weight enum or `None` for 'weights' are deprecated since 0.13 and may be removed in the future. The current behavior is equivalent to passing `weights=Wide_ResNet50_2_Weights.IMAGENET1K_V1`. You can also use `weights=Wide_ResNet50_2_Weights.DEFAULT` to get the most up-to-date weights.\n",
      "  warnings.warn(msg)\n"
     ]
    },
    {
     "name": "stdout",
     "output_type": "stream",
     "text": [
      "FaissNN distance type:  cosine\n",
      "len(loaded_patchcores): 1\n",
      "features.shape torch.Size([10241, 128])\n"
     ]
    },
    {
     "name": "stderr",
     "output_type": "stream",
     "text": [
      "Subsampling...: 100%|█| 25000/25000 [00:04<0\n",
      "100%|█████████| 3/3 [00:00<00:00,  4.63it/s]\n",
      "100%|█████████| 8/8 [00:02<00:00,  3.56it/s]\n"
     ]
    },
    {
     "name": "stdout",
     "output_type": "stream",
     "text": [
      "Pixelwise_AUC:\n",
      "\tsegmentations: 0.9728844410512264\n",
      "PL:\n",
      "\tsegmentations: 0.8382352941176471\n",
      "\n",
      "Metric time taken:\n",
      "\n",
      "Pixelwise_AUC: 2.1s\n",
      "PL: 0.69s\n",
      "Not saved the metrics results\n",
      "CoresetSampler distance type:  cosine\n"
     ]
    },
    {
     "name": "stderr",
     "output_type": "stream",
     "text": [
      "/mnt/faster0/adjt20/ad_env/lib/python3.10/site-packages/torchvision/models/_utils.py:208: UserWarning: The parameter 'pretrained' is deprecated since 0.13 and may be removed in the future, please use 'weights' instead.\n",
      "  warnings.warn(\n",
      "/mnt/faster0/adjt20/ad_env/lib/python3.10/site-packages/torchvision/models/_utils.py:223: UserWarning: Arguments other than a weight enum or `None` for 'weights' are deprecated since 0.13 and may be removed in the future. The current behavior is equivalent to passing `weights=Wide_ResNet50_2_Weights.IMAGENET1K_V1`. You can also use `weights=Wide_ResNet50_2_Weights.DEFAULT` to get the most up-to-date weights.\n",
      "  warnings.warn(msg)\n"
     ]
    },
    {
     "name": "stdout",
     "output_type": "stream",
     "text": [
      "FaissNN distance type:  cosine\n",
      "len(loaded_patchcores): 1\n",
      "features.shape torch.Size([10241, 128])\n"
     ]
    },
    {
     "name": "stderr",
     "output_type": "stream",
     "text": [
      "Subsampling...: 100%|█| 25000/25000 [00:04<0\n",
      "100%|█████████| 3/3 [00:00<00:00,  3.39it/s]\n",
      "100%|█████████| 8/8 [00:02<00:00,  2.69it/s]\n"
     ]
    },
    {
     "name": "stdout",
     "output_type": "stream",
     "text": [
      "Pixelwise_AUC:\n",
      "\tsegmentations: 0.9697512206635305\n",
      "PL:\n",
      "\tsegmentations: 0.8088235294117647\n",
      "\n",
      "Metric time taken:\n",
      "\n",
      "Pixelwise_AUC: 2.5s\n",
      "PL: 0.83s\n",
      "Not saved the metrics results\n",
      "CoresetSampler distance type:  minkowski3\n"
     ]
    },
    {
     "name": "stderr",
     "output_type": "stream",
     "text": [
      "/mnt/faster0/adjt20/ad_env/lib/python3.10/site-packages/torchvision/models/_utils.py:208: UserWarning: The parameter 'pretrained' is deprecated since 0.13 and may be removed in the future, please use 'weights' instead.\n",
      "  warnings.warn(\n",
      "/mnt/faster0/adjt20/ad_env/lib/python3.10/site-packages/torchvision/models/_utils.py:223: UserWarning: Arguments other than a weight enum or `None` for 'weights' are deprecated since 0.13 and may be removed in the future. The current behavior is equivalent to passing `weights=Wide_ResNet50_2_Weights.IMAGENET1K_V1`. You can also use `weights=Wide_ResNet50_2_Weights.DEFAULT` to get the most up-to-date weights.\n",
      "  warnings.warn(msg)\n"
     ]
    },
    {
     "name": "stdout",
     "output_type": "stream",
     "text": [
      "FaissNN distance type:  minkowski3\n",
      "len(loaded_patchcores): 1\n",
      "features.shape torch.Size([25289, 128])\n"
     ]
    },
    {
     "name": "stderr",
     "output_type": "stream",
     "text": [
      "Subsampling...: 100%|█| 25000/25000 [00:03<0\n",
      "100%|█████████| 3/3 [00:01<00:00,  2.41it/s]\n",
      "100%|█████████| 8/8 [00:04<00:00,  1.92it/s]\n"
     ]
    },
    {
     "name": "stdout",
     "output_type": "stream",
     "text": [
      "Pixelwise_AUC:\n",
      "\tsegmentations: 0.9830835779909712\n",
      "PL:\n",
      "\tsegmentations: 0.9264705882352942\n",
      "\n",
      "Metric time taken:\n",
      "\n",
      "Pixelwise_AUC: 2.2s\n",
      "PL: 0.69s\n",
      "Not saved the metrics results\n",
      "CoresetSampler distance type:  minkowski3\n"
     ]
    },
    {
     "name": "stderr",
     "output_type": "stream",
     "text": [
      "/mnt/faster0/adjt20/ad_env/lib/python3.10/site-packages/torchvision/models/_utils.py:208: UserWarning: The parameter 'pretrained' is deprecated since 0.13 and may be removed in the future, please use 'weights' instead.\n",
      "  warnings.warn(\n",
      "/mnt/faster0/adjt20/ad_env/lib/python3.10/site-packages/torchvision/models/_utils.py:223: UserWarning: Arguments other than a weight enum or `None` for 'weights' are deprecated since 0.13 and may be removed in the future. The current behavior is equivalent to passing `weights=Wide_ResNet50_2_Weights.IMAGENET1K_V1`. You can also use `weights=Wide_ResNet50_2_Weights.DEFAULT` to get the most up-to-date weights.\n",
      "  warnings.warn(msg)\n"
     ]
    },
    {
     "name": "stdout",
     "output_type": "stream",
     "text": [
      "FaissNN distance type:  minkowski3\n",
      "len(loaded_patchcores): 1\n",
      "features.shape torch.Size([25289, 128])\n"
     ]
    },
    {
     "name": "stderr",
     "output_type": "stream",
     "text": [
      "Subsampling...: 100%|█| 25000/25000 [00:03<0\n",
      "100%|█████████| 3/3 [00:01<00:00,  2.10it/s]\n",
      "100%|█████████| 8/8 [00:04<00:00,  1.69it/s]\n"
     ]
    },
    {
     "name": "stdout",
     "output_type": "stream",
     "text": [
      "Pixelwise_AUC:\n",
      "\tsegmentations: 0.9803035786452872\n",
      "PL:\n",
      "\tsegmentations: 0.9117647058823529\n",
      "\n",
      "Metric time taken:\n",
      "\n",
      "Pixelwise_AUC: 2.3s\n",
      "PL: 0.79s\n",
      "Not saved the metrics results\n",
      "CoresetSampler distance type:  minkowski3\n"
     ]
    },
    {
     "name": "stderr",
     "output_type": "stream",
     "text": [
      "/mnt/faster0/adjt20/ad_env/lib/python3.10/site-packages/torchvision/models/_utils.py:208: UserWarning: The parameter 'pretrained' is deprecated since 0.13 and may be removed in the future, please use 'weights' instead.\n",
      "  warnings.warn(\n",
      "/mnt/faster0/adjt20/ad_env/lib/python3.10/site-packages/torchvision/models/_utils.py:223: UserWarning: Arguments other than a weight enum or `None` for 'weights' are deprecated since 0.13 and may be removed in the future. The current behavior is equivalent to passing `weights=Wide_ResNet50_2_Weights.IMAGENET1K_V1`. You can also use `weights=Wide_ResNet50_2_Weights.DEFAULT` to get the most up-to-date weights.\n",
      "  warnings.warn(msg)\n"
     ]
    },
    {
     "name": "stdout",
     "output_type": "stream",
     "text": [
      "FaissNN distance type:  minkowski3\n",
      "len(loaded_patchcores): 1\n",
      "features.shape torch.Size([10241, 128])\n"
     ]
    },
    {
     "name": "stderr",
     "output_type": "stream",
     "text": [
      "Subsampling...: 100%|█| 25000/25000 [00:01<0\n",
      "100%|█████████| 3/3 [00:00<00:00,  3.46it/s]\n",
      "100%|█████████| 8/8 [00:03<00:00,  2.66it/s]\n"
     ]
    },
    {
     "name": "stdout",
     "output_type": "stream",
     "text": [
      "Pixelwise_AUC:\n",
      "\tsegmentations: 0.976045656441623\n",
      "PL:\n",
      "\tsegmentations: 0.8823529411764706\n",
      "\n",
      "Metric time taken:\n",
      "\n",
      "Pixelwise_AUC: 2.5s\n",
      "PL: 0.81s\n",
      "Not saved the metrics results\n",
      "CoresetSampler distance type:  minkowski3\n"
     ]
    },
    {
     "name": "stderr",
     "output_type": "stream",
     "text": [
      "/mnt/faster0/adjt20/ad_env/lib/python3.10/site-packages/torchvision/models/_utils.py:208: UserWarning: The parameter 'pretrained' is deprecated since 0.13 and may be removed in the future, please use 'weights' instead.\n",
      "  warnings.warn(\n",
      "/mnt/faster0/adjt20/ad_env/lib/python3.10/site-packages/torchvision/models/_utils.py:223: UserWarning: Arguments other than a weight enum or `None` for 'weights' are deprecated since 0.13 and may be removed in the future. The current behavior is equivalent to passing `weights=Wide_ResNet50_2_Weights.IMAGENET1K_V1`. You can also use `weights=Wide_ResNet50_2_Weights.DEFAULT` to get the most up-to-date weights.\n",
      "  warnings.warn(msg)\n"
     ]
    },
    {
     "name": "stdout",
     "output_type": "stream",
     "text": [
      "FaissNN distance type:  minkowski3\n",
      "len(loaded_patchcores): 1\n",
      "features.shape torch.Size([10241, 128])\n"
     ]
    },
    {
     "name": "stderr",
     "output_type": "stream",
     "text": [
      "Subsampling...: 100%|█| 25000/25000 [00:02<0\n",
      "100%|█████████| 3/3 [00:01<00:00,  2.76it/s]\n",
      "100%|█████████| 8/8 [00:03<00:00,  2.28it/s]\n"
     ]
    },
    {
     "name": "stdout",
     "output_type": "stream",
     "text": [
      "Pixelwise_AUC:\n",
      "\tsegmentations: 0.975087263821891\n",
      "PL:\n",
      "\tsegmentations: 0.8676470588235294\n",
      "\n",
      "Metric time taken:\n",
      "\n",
      "Pixelwise_AUC: 2.1s\n",
      "PL: 0.71s\n",
      "Not saved the metrics results\n",
      "CoresetSampler distance type:  manhatten\n"
     ]
    },
    {
     "name": "stderr",
     "output_type": "stream",
     "text": [
      "/mnt/faster0/adjt20/ad_env/lib/python3.10/site-packages/torchvision/models/_utils.py:208: UserWarning: The parameter 'pretrained' is deprecated since 0.13 and may be removed in the future, please use 'weights' instead.\n",
      "  warnings.warn(\n",
      "/mnt/faster0/adjt20/ad_env/lib/python3.10/site-packages/torchvision/models/_utils.py:223: UserWarning: Arguments other than a weight enum or `None` for 'weights' are deprecated since 0.13 and may be removed in the future. The current behavior is equivalent to passing `weights=Wide_ResNet50_2_Weights.IMAGENET1K_V1`. You can also use `weights=Wide_ResNet50_2_Weights.DEFAULT` to get the most up-to-date weights.\n",
      "  warnings.warn(msg)\n"
     ]
    },
    {
     "name": "stdout",
     "output_type": "stream",
     "text": [
      "FaissNN distance type:  manhatten\n",
      "len(loaded_patchcores): 1\n",
      "features.shape torch.Size([25289, 128])\n"
     ]
    },
    {
     "name": "stderr",
     "output_type": "stream",
     "text": [
      "Subsampling...: 100%|█| 25000/25000 [00:02<0\n",
      "100%|█████████| 3/3 [00:00<00:00,  3.36it/s]\n",
      "100%|█████████| 8/8 [00:03<00:00,  2.63it/s]\n"
     ]
    },
    {
     "name": "stdout",
     "output_type": "stream",
     "text": [
      "Pixelwise_AUC:\n",
      "\tsegmentations: 0.9816001888297586\n",
      "PL:\n",
      "\tsegmentations: 0.9264705882352942\n",
      "\n",
      "Metric time taken:\n",
      "\n",
      "Pixelwise_AUC: 2.2s\n",
      "PL: 0.7s\n",
      "Not saved the metrics results\n",
      "CoresetSampler distance type:  manhatten\n"
     ]
    },
    {
     "name": "stderr",
     "output_type": "stream",
     "text": [
      "/mnt/faster0/adjt20/ad_env/lib/python3.10/site-packages/torchvision/models/_utils.py:208: UserWarning: The parameter 'pretrained' is deprecated since 0.13 and may be removed in the future, please use 'weights' instead.\n",
      "  warnings.warn(\n",
      "/mnt/faster0/adjt20/ad_env/lib/python3.10/site-packages/torchvision/models/_utils.py:223: UserWarning: Arguments other than a weight enum or `None` for 'weights' are deprecated since 0.13 and may be removed in the future. The current behavior is equivalent to passing `weights=Wide_ResNet50_2_Weights.IMAGENET1K_V1`. You can also use `weights=Wide_ResNet50_2_Weights.DEFAULT` to get the most up-to-date weights.\n",
      "  warnings.warn(msg)\n"
     ]
    },
    {
     "name": "stdout",
     "output_type": "stream",
     "text": [
      "FaissNN distance type:  manhatten\n",
      "len(loaded_patchcores): 1\n",
      "features.shape torch.Size([25289, 128])\n"
     ]
    },
    {
     "name": "stderr",
     "output_type": "stream",
     "text": [
      "Subsampling...: 100%|█| 25000/25000 [00:02<0\n",
      "100%|█████████| 3/3 [00:01<00:00,  2.68it/s]\n",
      "100%|█████████| 8/8 [00:03<00:00,  2.14it/s]\n"
     ]
    },
    {
     "name": "stdout",
     "output_type": "stream",
     "text": [
      "Pixelwise_AUC:\n",
      "\tsegmentations: 0.9781362886465019\n",
      "PL:\n",
      "\tsegmentations: 0.8970588235294118\n",
      "\n",
      "Metric time taken:\n",
      "\n",
      "Pixelwise_AUC: 4.8s\n",
      "PL: 0.7s\n",
      "Not saved the metrics results\n",
      "CoresetSampler distance type:  manhatten\n"
     ]
    },
    {
     "name": "stderr",
     "output_type": "stream",
     "text": [
      "/mnt/faster0/adjt20/ad_env/lib/python3.10/site-packages/torchvision/models/_utils.py:208: UserWarning: The parameter 'pretrained' is deprecated since 0.13 and may be removed in the future, please use 'weights' instead.\n",
      "  warnings.warn(\n",
      "/mnt/faster0/adjt20/ad_env/lib/python3.10/site-packages/torchvision/models/_utils.py:223: UserWarning: Arguments other than a weight enum or `None` for 'weights' are deprecated since 0.13 and may be removed in the future. The current behavior is equivalent to passing `weights=Wide_ResNet50_2_Weights.IMAGENET1K_V1`. You can also use `weights=Wide_ResNet50_2_Weights.DEFAULT` to get the most up-to-date weights.\n",
      "  warnings.warn(msg)\n"
     ]
    },
    {
     "name": "stdout",
     "output_type": "stream",
     "text": [
      "FaissNN distance type:  manhatten\n",
      "len(loaded_patchcores): 1\n",
      "features.shape torch.Size([10241, 128])\n"
     ]
    },
    {
     "name": "stderr",
     "output_type": "stream",
     "text": [
      "Subsampling...: 100%|█| 25000/25000 [00:02<0\n",
      "100%|█████████| 3/3 [00:00<00:00,  3.95it/s]\n",
      "100%|█████████| 8/8 [00:02<00:00,  3.01it/s]\n"
     ]
    },
    {
     "name": "stdout",
     "output_type": "stream",
     "text": [
      "Pixelwise_AUC:\n",
      "\tsegmentations: 0.9719769159113091\n",
      "PL:\n",
      "\tsegmentations: 0.8382352941176471\n",
      "\n",
      "Metric time taken:\n",
      "\n",
      "Pixelwise_AUC: 2.4s\n",
      "PL: 0.75s\n",
      "Not saved the metrics results\n",
      "CoresetSampler distance type:  manhatten\n"
     ]
    },
    {
     "name": "stderr",
     "output_type": "stream",
     "text": [
      "/mnt/faster0/adjt20/ad_env/lib/python3.10/site-packages/torchvision/models/_utils.py:208: UserWarning: The parameter 'pretrained' is deprecated since 0.13 and may be removed in the future, please use 'weights' instead.\n",
      "  warnings.warn(\n",
      "/mnt/faster0/adjt20/ad_env/lib/python3.10/site-packages/torchvision/models/_utils.py:223: UserWarning: Arguments other than a weight enum or `None` for 'weights' are deprecated since 0.13 and may be removed in the future. The current behavior is equivalent to passing `weights=Wide_ResNet50_2_Weights.IMAGENET1K_V1`. You can also use `weights=Wide_ResNet50_2_Weights.DEFAULT` to get the most up-to-date weights.\n",
      "  warnings.warn(msg)\n"
     ]
    },
    {
     "name": "stdout",
     "output_type": "stream",
     "text": [
      "FaissNN distance type:  manhatten\n",
      "len(loaded_patchcores): 1\n",
      "features.shape torch.Size([10241, 128])\n"
     ]
    },
    {
     "name": "stderr",
     "output_type": "stream",
     "text": [
      "Subsampling...: 100%|█| 25000/25000 [00:02<0\n",
      "100%|█████████| 3/3 [00:00<00:00,  3.28it/s]\n",
      "100%|█████████| 8/8 [00:03<00:00,  2.63it/s]\n"
     ]
    },
    {
     "name": "stdout",
     "output_type": "stream",
     "text": [
      "Pixelwise_AUC:\n",
      "\tsegmentations: 0.9717508237563286\n",
      "PL:\n",
      "\tsegmentations: 0.8529411764705882\n",
      "\n",
      "Metric time taken:\n",
      "\n",
      "Pixelwise_AUC: 11s\n",
      "PL: 0.83s\n",
      "Not saved the metrics results\n"
     ]
    }
   ],
   "source": [
    "for distance_type in [\"euclidean\", \"cosine\", \"minkowski3\", \"manhatten\"]:\n",
    "    for patchstride in [3, 5]:\n",
    "        for patchsize in [5, 7]:\n",
    "            params[\"distance_type\"] = distance_type\n",
    "            params[\"patchsize\"] = patchsize\n",
    "            params[\"patchstride\"] = patchstride\n",
    "            params[\"device\"] = \"cuda:7\"\n",
    "            algo_class = WrapperPatchCorePlus(**params)\n",
    "            dataloader_train, dataloader_regular_test, dataloader_novel_test = get_dataloaders(\"mvtec_bottle\", params[\"device\"])\n",
    "            algo_class.enter_dataloaders(dataloader_train, dataloader_regular_test, dataloader_novel_test)\n",
    "\n",
    "            algo_class.pre_eval_processing()\n",
    "            heats, scores, targets, paths = algo_class.test()\n",
    "            run_metrics([\"Pixelwise_AUC\", \"PL\"], heats, scores, targets, paths)\n"
   ]
  },
  {
   "cell_type": "code",
   "execution_count": 248,
   "id": "2efcf187",
   "metadata": {},
   "outputs": [
    {
     "name": "stdout",
     "output_type": "stream",
     "text": [
      "CoresetSampler distance type:  euclidean\n"
     ]
    },
    {
     "name": "stderr",
     "output_type": "stream",
     "text": [
      "/mnt/faster0/adjt20/ad_env/lib/python3.10/site-packages/torchvision/models/_utils.py:208: UserWarning: The parameter 'pretrained' is deprecated since 0.13 and may be removed in the future, please use 'weights' instead.\n",
      "  warnings.warn(\n",
      "/mnt/faster0/adjt20/ad_env/lib/python3.10/site-packages/torchvision/models/_utils.py:223: UserWarning: Arguments other than a weight enum or `None` for 'weights' are deprecated since 0.13 and may be removed in the future. The current behavior is equivalent to passing `weights=Wide_ResNet50_2_Weights.IMAGENET1K_V1`. You can also use `weights=Wide_ResNet50_2_Weights.DEFAULT` to get the most up-to-date weights.\n",
      "  warnings.warn(msg)\n"
     ]
    },
    {
     "name": "stdout",
     "output_type": "stream",
     "text": [
      "FaissNN distance type:  euclidean\n",
      "len(loaded_patchcores): 1\n",
      "features.shape torch.Size([214016, 128])\n"
     ]
    },
    {
     "name": "stderr",
     "output_type": "stream",
     "text": [
      "Subsampling...: 100%|█| 25000/25000 [00:17<0\n"
     ]
    },
    {
     "name": "stdout",
     "output_type": "stream",
     "text": [
      "\n",
      "\n",
      "\n",
      "Features are being fit to the FAISNNnew\n",
      "\n",
      "\n",
      "\n"
     ]
    },
    {
     "name": "stderr",
     "output_type": "stream",
     "text": [
      "100%|█████████| 3/3 [00:00<00:00,  3.31it/s]\n",
      "100%|█████████| 8/8 [00:03<00:00,  2.38it/s]\n"
     ]
    },
    {
     "name": "stdout",
     "output_type": "stream",
     "text": [
      "Pixelwise_AUC:\n",
      "\tsegmentations: 0.988048889159868\n",
      "PL:\n",
      "\tsegmentations: 0.9705882352941176\n",
      "\n",
      "Metric time taken:\n",
      "\n",
      "Pixelwise_AUC: 2.5s\n",
      "PL: 0.71s\n",
      "Not saved the metrics results\n"
     ]
    }
   ],
   "source": [
    "for distance_type in [\"euclidean\"]:\n",
    "    params[\"distance_type\"] = distance_type\n",
    "    params[\"device\"] = \"cuda:7\"\n",
    "    algo_class = WrapperPatchCorePlus(**params)\n",
    "    dataloader_train, dataloader_regular_test, dataloader_novel_test = get_dataloaders(\"mvtec_bottle\", params[\"device\"])\n",
    "    algo_class.enter_dataloaders(dataloader_train, dataloader_regular_test, dataloader_novel_test)\n",
    "\n",
    "    algo_class.pre_eval_processing()\n",
    "    heats, scores, targets, paths = algo_class.test()\n",
    "    run_metrics([\"Pixelwise_AUC\", \"PL\"], heats, scores, targets, paths)\n"
   ]
  },
  {
   "cell_type": "code",
   "execution_count": null,
   "id": "bb0a622e",
   "metadata": {},
   "outputs": [],
   "source": [
    "dataloader = dataloader_novel_test\n"
   ]
  },
  {
   "cell_type": "code",
   "execution_count": 103,
   "id": "8c372165",
   "metadata": {},
   "outputs": [
    {
     "ename": "AttributeError",
     "evalue": "'WrapperPatchCorePlus' object has no attribute 'patchcore'",
     "output_type": "error",
     "traceback": [
      "\u001b[0;31m---------------------------------------------------------------------------\u001b[0m",
      "\u001b[0;31mAttributeError\u001b[0m                            Traceback (most recent call last)",
      "Cell \u001b[0;32mIn[103], line 1\u001b[0m\n\u001b[0;32m----> 1\u001b[0m \u001b[43malgo_class\u001b[49m\u001b[38;5;241;43m.\u001b[39;49m\u001b[43mpatchcore\u001b[49m\n",
      "\u001b[0;31mAttributeError\u001b[0m: 'WrapperPatchCorePlus' object has no attribute 'patchcore'"
     ]
    }
   ],
   "source": [
    "algo_class.patchcore"
   ]
  },
  {
   "cell_type": "code",
   "execution_count": 198,
   "id": "e80ace3b",
   "metadata": {},
   "outputs": [
    {
     "data": {
      "text/plain": [
       "tensor([0, 0, 0, 0, 0, 0, 0, 0])"
      ]
     },
     "execution_count": 198,
     "metadata": {},
     "output_type": "execute_result"
    }
   ],
   "source": [
    "for aa in dataloader_novel_test:\n",
    "    break\n"
   ]
  },
  {
   "cell_type": "code",
   "execution_count": 249,
   "id": "d4b36368",
   "metadata": {},
   "outputs": [
    {
     "name": "stderr",
     "output_type": "stream",
     "text": [
      "  0%|                 | 0/8 [00:00<?, ?it/s]\n"
     ]
    }
   ],
   "source": [
    "self = algo_class.PatchCore_list[0]\n",
    "\n",
    "for ind, (images, masks, _, _) in tqdm(enumerate(dataloader_novel_test), total=len(dataloader_novel_test)):\n",
    "    torch.cuda.empty_cache()\n",
    "    break\n",
    "    \n",
    "with torch.no_grad():\n",
    "    features, patch_shapes = self._embed(images.to(self.device), provide_patch_shapes=True)\n",
    "    features = np.asarray(features)\n",
    "    \n",
    "    patch_scores = image_scores = self.anomaly_scorer.predict([features])[0]\n",
    "    image_scores = self.patch_maker.unpatch_scores(\n",
    "        image_scores, batchsize=batchsize\n",
    "    )\n",
    "    image_scores = image_scores.reshape(*image_scores.shape[:2], -1)\n",
    "    image_scores = self.patch_maker.score(image_scores)\n",
    "\n",
    "    patch_scores = self.patch_maker.unpatch_scores(\n",
    "        patch_scores, batchsize=batchsize\n",
    "    )\n",
    "    scales = patch_shapes[0]\n",
    "    patch_scores = patch_scores.reshape(batchsize, scales[0], scales[1])\n",
    "\n",
    "    preds = self.anomaly_segmentor.convert_to_segmentation(patch_scores)\n",
    "#     algo_class.PatchCore_list[0]\n",
    "#     _scores, _segmentations = PatchCore._predict(data)"
   ]
  },
  {
   "cell_type": "code",
   "execution_count": 251,
   "id": "5f829028",
   "metadata": {},
   "outputs": [
    {
     "data": {
      "text/plain": [
       "<matplotlib.image.AxesImage at 0x7fee9cf42710>"
      ]
     },
     "execution_count": 251,
     "metadata": {},
     "output_type": "execute_result"
    },
    {
     "data": {
      "image/png": "[encoded data removed]",
      "text/plain": [
       "<Figure size 640x480 with 1 Axes>"
      ]
     },
     "metadata": {},
     "output_type": "display_data"
    }
   ],
   "source": [
    "plt.imshow(preds[0])"
   ]
  },
  {
   "cell_type": "code",
   "execution_count": null,
   "id": "750446e9",
   "metadata": {},
   "outputs": [],
   "source": [
    "self = algo_class.PatchCore_list[0]\n",
    "\n",
    "for ind, (images, masks, _, _) in tqdm(enumerate(dataloader_novel_test), total=len(dataloader_novel_test)):\n",
    "    torch.cuda.empty_cache()\n",
    "    break\n",
    "    \n",
    "with torch.no_grad():\n",
    "    features, patch_shapes = self._embed(images.to(self.device), provide_patch_shapes=True)\n",
    "    features = np.asarray(features)"
   ]
  },
  {
   "cell_type": "code",
   "execution_count": 287,
   "id": "93e19a5a",
   "metadata": {},
   "outputs": [
    {
     "data": {
      "text/plain": [
       "(1024, 8192)"
      ]
     },
     "execution_count": 287,
     "metadata": {},
     "output_type": "execute_result"
    }
   ],
   "source": [
    "query_features.shape"
   ]
  },
  {
   "cell_type": "code",
   "execution_count": 297,
   "id": "5d0f4582",
   "metadata": {},
   "outputs": [],
   "source": [
    "\n",
    "query_features = self.anomaly_scorer.feature_merger.merge([features])\n",
    "distances = self.anomaly_scorer.nn_method.search_index.search(query_features, 1)\n"
   ]
  },
  {
   "cell_type": "code",
   "execution_count": 290,
   "id": "71323f0f",
   "metadata": {},
   "outputs": [
    {
     "data": {
      "text/plain": [
       "array([[0.40787816],\n",
       "       [0.16436243],\n",
       "       [0.52230835],\n",
       "       ...,\n",
       "       [0.41100454],\n",
       "       [0.42927408],\n",
       "       [0.617892  ]], dtype=float32)"
      ]
     },
     "execution_count": 290,
     "metadata": {},
     "output_type": "execute_result"
    }
   ],
   "source": [
    "distances[0]"
   ]
  },
  {
   "cell_type": "code",
   "execution_count": 318,
   "id": "ab87c006",
   "metadata": {},
   "outputs": [],
   "source": [
    "from scipy.spatial.distance import cdist\n",
    "dists = cdist(query_features, raw_features)"
   ]
  },
  {
   "cell_type": "code",
   "execution_count": 320,
   "id": "b54ea5c6",
   "metadata": {},
   "outputs": [
    {
     "data": {
      "text/plain": [
       "array([0.63865324, 0.40541471, 0.72270925, ..., 0.64109909, 0.65519513,\n",
       "       0.78605893])"
      ]
     },
     "execution_count": 320,
     "metadata": {},
     "output_type": "execute_result"
    }
   ],
   "source": [
    "dists.min(1)"
   ]
  },
  {
   "cell_type": "code",
   "execution_count": null,
   "id": "48e19607",
   "metadata": {},
   "outputs": [],
   "source": []
  },
  {
   "cell_type": "code",
   "execution_count": 315,
   "id": "b3217cde",
   "metadata": {},
   "outputs": [],
   "source": [
    "def find_nearest_neighbors(query_features, raw_features, k=1):\n",
    "    from scipy.spatial.distance import cdist\n",
    "    cdist()\n",
    "    return indices, distances"
   ]
  },
  {
   "cell_type": "code",
   "execution_count": null,
   "id": "5680c3e4",
   "metadata": {},
   "outputs": [],
   "source": []
  },
  {
   "cell_type": "code",
   "execution_count": null,
   "id": "cc46b865",
   "metadata": {},
   "outputs": [],
   "source": []
  },
  {
   "cell_type": "code",
   "execution_count": 291,
   "id": "fbb4a1ec",
   "metadata": {},
   "outputs": [],
   "source": [
    "raw_features = self.anomaly_scorer.nn_method.raw_features"
   ]
  },
  {
   "cell_type": "code",
   "execution_count": 308,
   "id": "3973aa5c",
   "metadata": {},
   "outputs": [
    {
     "data": {
      "text/plain": [
       "['__class__',\n",
       " '__delattr__',\n",
       " '__dict__',\n",
       " '__dir__',\n",
       " '__doc__',\n",
       " '__eq__',\n",
       " '__format__',\n",
       " '__ge__',\n",
       " '__getattribute__',\n",
       " '__gt__',\n",
       " '__hash__',\n",
       " '__init__',\n",
       " '__init_subclass__',\n",
       " '__le__',\n",
       " '__lt__',\n",
       " '__module__',\n",
       " '__ne__',\n",
       " '__new__',\n",
       " '__reduce__',\n",
       " '__reduce_ex__',\n",
       " '__repr__',\n",
       " '__setattr__',\n",
       " '__sizeof__',\n",
       " '__str__',\n",
       " '__subclasshook__',\n",
       " '__weakref__',\n",
       " '_compute_batchwise_cosine_distance',\n",
       " '_compute_batchwise_differences',\n",
       " '_compute_batchwise_euclidean_distances_new',\n",
       " '_compute_euclidean_distances_original',\n",
       " '_compute_greedy_coreset_indices',\n",
       " '_compute_minkowski_distance',\n",
       " '_reduce_features',\n",
       " '_restore_type',\n",
       " '_store_type',\n",
       " 'coreset_search_dimension_map',\n",
       " 'coreset_size',\n",
       " 'device',\n",
       " 'distance_type',\n",
       " 'features_is_numpy',\n",
       " 'number_of_starting_points',\n",
       " 'run']"
      ]
     },
     "execution_count": 308,
     "metadata": {},
     "output_type": "execute_result"
    }
   ],
   "source": [
    "dir(algo_class.PatchCore_list[0].featuresampler)"
   ]
  },
  {
   "cell_type": "code",
   "execution_count": 313,
   "id": "133da9d3",
   "metadata": {},
   "outputs": [],
   "source": [
    "distances_new_ = algo_class.PatchCore_list[0].featuresampler._compute_batchwise_differences(torch.tensor(query_features),\n",
    "                                                                                              torch.tensor(raw_features), \n",
    "                                                                                              )\n",
    "distances_new = distances_new_.min(1).values"
   ]
  },
  {
   "cell_type": "code",
   "execution_count": 310,
   "id": "bd667aa3",
   "metadata": {},
   "outputs": [
    {
     "data": {
      "text/plain": [
       "array([[1.        ],\n",
       "       [0.40296942],\n",
       "       [1.2805499 ],\n",
       "       ...,\n",
       "       [1.007665  ],\n",
       "       [1.0524566 ],\n",
       "       [1.5148937 ]], dtype=float32)"
      ]
     },
     "execution_count": 310,
     "metadata": {},
     "output_type": "execute_result"
    }
   ],
   "source": [
    "distances[0]/distances[0][0]"
   ]
  },
  {
   "cell_type": "code",
   "execution_count": 314,
   "id": "6355b82c",
   "metadata": {},
   "outputs": [
    {
     "data": {
      "text/plain": [
       "tensor([1.0000, 0.6348, 1.1316,  ..., 1.0038, 1.0259, 1.2308])"
      ]
     },
     "execution_count": 314,
     "metadata": {},
     "output_type": "execute_result"
    }
   ],
   "source": [
    "distances_new/distances_new[0]"
   ]
  },
  {
   "cell_type": "code",
   "execution_count": null,
   "id": "62811d7c",
   "metadata": {},
   "outputs": [],
   "source": []
  },
  {
   "cell_type": "code",
   "execution_count": 238,
   "id": "13e473f4",
   "metadata": {},
   "outputs": [],
   "source": [
    "batchsize = images.shape[0]"
   ]
  },
  {
   "cell_type": "code",
   "execution_count": 234,
   "id": "181f131c",
   "metadata": {},
   "outputs": [
    {
     "data": {
      "text/plain": [
       "[[32, 32], [16, 16]]"
      ]
     },
     "execution_count": 234,
     "metadata": {},
     "output_type": "execute_result"
    }
   ],
   "source": [
    "patch_shapes"
   ]
  },
  {
   "cell_type": "code",
   "execution_count": null,
   "id": "d2a6bd43",
   "metadata": {},
   "outputs": [],
   "source": []
  },
  {
   "cell_type": "code",
   "execution_count": null,
   "id": "1086e250",
   "metadata": {},
   "outputs": [],
   "source": []
  },
  {
   "cell_type": "code",
   "execution_count": 264,
   "id": "ababd31f",
   "metadata": {},
   "outputs": [
    {
     "name": "stdout",
     "output_type": "stream",
     "text": [
      "(8192, 1024)\n",
      "(1024, 8192)\n"
     ]
    }
   ],
   "source": [
    "print(features.shape)\n",
    "query_features = self.anomaly_scorer.feature_merger.merge(\n",
    "    features,\n",
    ")\n",
    "print(query_features.shape)"
   ]
  },
  {
   "cell_type": "code",
   "execution_count": 233,
   "id": "44bd637b",
   "metadata": {},
   "outputs": [
    {
     "data": {
      "text/plain": [
       "(8192, 1024)"
      ]
     },
     "execution_count": 233,
     "metadata": {},
     "output_type": "execute_result"
    }
   ],
   "source": [
    "features.shape"
   ]
  },
  {
   "cell_type": "code",
   "execution_count": 236,
   "id": "bbd5e844",
   "metadata": {},
   "outputs": [],
   "source": [
    "patch_scores = image_scores = self.anomaly_scorer.predict([features])[0]\n",
    "patch_scores = self.patch_maker.unpatch_scores(\n",
    "    patch_scores, batchsize=images.shape[0]\n",
    ")\n",
    "\n"
   ]
  },
  {
   "cell_type": "code",
   "execution_count": 239,
   "id": "9402cf02",
   "metadata": {},
   "outputs": [],
   "source": [
    "scales = patch_shapes[0]\n",
    "patch_scores = patch_scores.reshape(batchsize, scales[0], scales[1])\n",
    "\n",
    "patch_score_final = self.anomaly_segmentor.convert_to_segmentation(patch_scores)\n"
   ]
  },
  {
   "cell_type": "code",
   "execution_count": 243,
   "id": "0ab3ff11",
   "metadata": {},
   "outputs": [
    {
     "data": {
      "text/plain": [
       "(256, 256)"
      ]
     },
     "execution_count": 243,
     "metadata": {},
     "output_type": "execute_result"
    }
   ],
   "source": [
    "patch_score_final[0].shape"
   ]
  },
  {
   "cell_type": "code",
   "execution_count": 259,
   "id": "f75af80d",
   "metadata": {},
   "outputs": [
    {
     "data": {
      "text/plain": [
       "array([0.40787816, 0.16436243, 0.52230835, ..., 0.41100454, 0.42927408,\n",
       "       0.617892  ], dtype=float32)"
      ]
     },
     "execution_count": 259,
     "metadata": {},
     "output_type": "execute_result"
    }
   ],
   "source": [
    "self.anomaly_scorer.predict([features])[0]"
   ]
  },
  {
   "cell_type": "code",
   "execution_count": 266,
   "id": "73a5b919",
   "metadata": {},
   "outputs": [
    {
     "data": {
      "text/plain": [
       "(8192, 1024)"
      ]
     },
     "execution_count": 266,
     "metadata": {},
     "output_type": "execute_result"
    }
   ],
   "source": [
    "features.shape"
   ]
  },
  {
   "cell_type": "code",
   "execution_count": 268,
   "id": "e7fb8331",
   "metadata": {},
   "outputs": [
    {
     "data": {
      "text/plain": [
       "array([0.63865805, 0.40542284, 0.7227087 , ..., 0.6410997 , 0.6551956 ,\n",
       "       0.78605866], dtype=float32)"
      ]
     },
     "execution_count": 268,
     "metadata": {},
     "output_type": "execute_result"
    }
   ],
   "source": [
    "distances = algo_class.PatchCore_list[0].featuresampler._compute_euclidean_distances_original(torch.tensor(features),\n",
    "                                                                                              torch.tensor(raw_features), \n",
    "                                                                                              )\n",
    "patch_scores_new = distances.min(1).values.numpy()\n",
    "patch_scores_new"
   ]
  },
  {
   "cell_type": "code",
   "execution_count": 269,
   "id": "c20ff2a9",
   "metadata": {},
   "outputs": [
    {
     "data": {
      "text/plain": [
       "torch.Size([8192, 25000])"
      ]
     },
     "execution_count": 269,
     "metadata": {},
     "output_type": "execute_result"
    }
   ],
   "source": [
    "distances.shape"
   ]
  },
  {
   "cell_type": "code",
   "execution_count": 326,
   "id": "4c765861",
   "metadata": {},
   "outputs": [
    {
     "data": {
      "text/plain": [
       "array([1.8763883, 1.6033039, 1.6863023, ..., 1.711793 , 1.6403041,\n",
       "       1.8708127], dtype=float32)"
      ]
     },
     "execution_count": 326,
     "metadata": {},
     "output_type": "execute_result"
    }
   ],
   "source": [
    "distances.min(1).values.numpy()"
   ]
  },
  {
   "cell_type": "code",
   "execution_count": 262,
   "id": "6b1a6dab",
   "metadata": {},
   "outputs": [
    {
     "data": {
      "text/plain": [
       "array([1.5658059, 2.4666393, 1.3836821, ..., 1.559836 , 1.5262873,\n",
       "       1.2721618], dtype=float32)"
      ]
     },
     "execution_count": 262,
     "metadata": {},
     "output_type": "execute_result"
    }
   ],
   "source": [
    "patch_scores_new/self.anomaly_scorer.predict([features])[0]"
   ]
  },
  {
   "cell_type": "code",
   "execution_count": 329,
   "id": "d4c7e02f",
   "metadata": {},
   "outputs": [
    {
     "data": {
      "text/plain": [
       "(25000,)"
      ]
     },
     "execution_count": 329,
     "metadata": {},
     "output_type": "execute_result"
    }
   ],
   "source": [
    "((raw_features/raw_features.max(1)[:,None])).max(1).shape"
   ]
  },
  {
   "cell_type": "code",
   "execution_count": 321,
   "id": "b57e460c",
   "metadata": {},
   "outputs": [],
   "source": [
    "raw_features = algo_class.PatchCore_list[0].anomaly_scorer.nn_method.raw_features\n",
    "distances = algo_class.PatchCore_list[0].featuresampler._compute_euclidean_distances_original(torch.tensor(features),\n",
    "                                                                                              torch.tensor(raw_features/raw_features.max(1)[:,None]), \n",
    "                                                                                              )\n",
    "# patch_scores_new = distances.min(1).values.numpy()\n",
    "# patch_scores_new = self.patch_maker.unpatch_scores(\n",
    "#     patch_scores_new, batchsize=images.shape[0]\n",
    "# )"
   ]
  },
  {
   "cell_type": "code",
   "execution_count": 253,
   "id": "df5459d0",
   "metadata": {},
   "outputs": [
    {
     "data": {
      "text/plain": [
       "torch.Size([8192, 25000])"
      ]
     },
     "execution_count": 253,
     "metadata": {},
     "output_type": "execute_result"
    }
   ],
   "source": [
    "distances.shape"
   ]
  },
  {
   "cell_type": "code",
   "execution_count": 254,
   "id": "9d9d9740",
   "metadata": {},
   "outputs": [],
   "source": [
    "patch_scores_new = distances.min(1).values.numpy()"
   ]
  },
  {
   "cell_type": "code",
   "execution_count": 255,
   "id": "4bde7a56",
   "metadata": {},
   "outputs": [
    {
     "data": {
      "text/plain": [
       "(8192,)"
      ]
     },
     "execution_count": 255,
     "metadata": {},
     "output_type": "execute_result"
    }
   ],
   "source": [
    "patch_scores_new.shape"
   ]
  },
  {
   "cell_type": "code",
   "execution_count": 256,
   "id": "be779a92",
   "metadata": {},
   "outputs": [],
   "source": [
    "patch_scores_new_shapes = self.patch_maker.unpatch_scores(\n",
    "    patch_scores_new, batchsize=batchsize\n",
    ")"
   ]
  },
  {
   "cell_type": "code",
   "execution_count": 274,
   "id": "57ea00d2",
   "metadata": {},
   "outputs": [],
   "source": [
    "final_new = patch_scores_new.reshape(8, 32, 32)[0]"
   ]
  },
  {
   "cell_type": "code",
   "execution_count": 279,
   "id": "c41c4ed7",
   "metadata": {},
   "outputs": [
    {
     "data": {
      "text/plain": [
       "array([[False, False, False, ..., False, False, False],\n",
       "       [False, False, False, ..., False, False, False],\n",
       "       [False, False, False, ..., False, False, False],\n",
       "       ...,\n",
       "       [False, False, False, ..., False, False, False],\n",
       "       [False, False, False, ..., False, False, False],\n",
       "       [False, False, False, ..., False, False, False]])"
      ]
     },
     "execution_count": 279,
     "metadata": {},
     "output_type": "execute_result"
    }
   ],
   "source": [
    "patch_scores[0]/patch_scores[0].max()==final_new/final_new.max()"
   ]
  },
  {
   "cell_type": "code",
   "execution_count": 281,
   "id": "fd300ba4",
   "metadata": {},
   "outputs": [
    {
     "data": {
      "text/plain": [
       "array([[0.24951686, 0.15839437, 0.28235456, ..., 0.01948246, 0.17795148,\n",
       "        0.01111367],\n",
       "       [0.01271998, 0.01537534, 0.23536381, ..., 0.23042731, 0.0088578 ,\n",
       "        0.26142058],\n",
       "       [0.18294853, 0.23369607, 0.01136941, ..., 0.01344056, 0.22249824,\n",
       "        0.25228432],\n",
       "       ...,\n",
       "       [0.27999562, 0.22539662, 0.28635383, ..., 0.22672085, 0.19013149,\n",
       "        0.02263778],\n",
       "       [0.25287074, 0.01514641, 0.2336805 , ..., 0.02461698, 0.22680914,\n",
       "        0.17457876],\n",
       "       [0.0080507 , 0.17921838, 0.01939822, ..., 0.25058264, 0.25644806,\n",
       "        0.3072407 ]], dtype=float32)"
      ]
     },
     "execution_count": 281,
     "metadata": {},
     "output_type": "execute_result"
    }
   ],
   "source": [
    "final_new/final_new.max()"
   ]
  },
  {
   "cell_type": "code",
   "execution_count": 280,
   "id": "facaf2a9",
   "metadata": {},
   "outputs": [
    {
     "data": {
      "text/plain": [
       "array([[6.2258031e-02, 2.5088083e-02, 7.9724513e-02, ..., 3.8240635e-04,\n",
       "        3.1668399e-02, 1.2376893e-04],\n",
       "       [1.6216241e-04, 2.4047784e-04, 5.5394184e-02, ..., 5.3095527e-02,\n",
       "        8.2100181e-05, 6.8341561e-02],\n",
       "       [3.3470962e-02, 5.4616418e-02, 1.3319444e-04, ..., 1.7846600e-04,\n",
       "        4.9502626e-02, 6.3647076e-02],\n",
       "       ...,\n",
       "       [7.8398392e-02, 5.0805893e-02, 8.2000032e-02, ..., 5.1405922e-02,\n",
       "        3.6149554e-02, 5.1385397e-04],\n",
       "       [6.3946217e-02, 2.2868685e-04, 5.4605208e-02, ..., 6.0949195e-04,\n",
       "        5.1445954e-02, 3.0477509e-02],\n",
       "       [6.5250722e-05, 3.2121696e-02, 3.7789374e-04, ..., 6.2793978e-02,\n",
       "        6.5768287e-02, 9.4397634e-02]], dtype=float32)"
      ]
     },
     "execution_count": 280,
     "metadata": {},
     "output_type": "execute_result"
    }
   ],
   "source": [
    "patch_scores[0]/patch_scores[0].max()"
   ]
  },
  {
   "cell_type": "code",
   "execution_count": null,
   "id": "8d071813",
   "metadata": {},
   "outputs": [],
   "source": []
  },
  {
   "cell_type": "code",
   "execution_count": 276,
   "id": "eeb8ca20",
   "metadata": {},
   "outputs": [
    {
     "data": {
      "text/plain": [
       "<matplotlib.image.AxesImage at 0x7fee99e64370>"
      ]
     },
     "execution_count": 276,
     "metadata": {},
     "output_type": "execute_result"
    },
    {
     "data": {
      "image/png": "[encoded data removed]",
      "text/plain": [
       "<Figure size 640x480 with 1 Axes>"
      ]
     },
     "metadata": {},
     "output_type": "display_data"
    }
   ],
   "source": [
    "plt.imshow(patch_scores[0])"
   ]
  },
  {
   "cell_type": "code",
   "execution_count": 271,
   "id": "6f8aeda3",
   "metadata": {},
   "outputs": [
    {
     "data": {
      "text/plain": [
       "<matplotlib.image.AxesImage at 0x7fee99fddf90>"
      ]
     },
     "execution_count": 271,
     "metadata": {},
     "output_type": "execute_result"
    },
    {
     "data": {
      "image/png": "[encoded data removed]",
      "text/plain": [
       "<Figure size 640x480 with 1 Axes>"
      ]
     },
     "metadata": {},
     "output_type": "display_data"
    }
   ],
   "source": [
    "plt.imshow(patch_scores_new.reshape(8, 32, 32)[0])"
   ]
  },
  {
   "cell_type": "code",
   "execution_count": 246,
   "id": "8574de5c",
   "metadata": {},
   "outputs": [
    {
     "data": {
      "text/plain": [
       "<matplotlib.image.AxesImage at 0x7fee9cbe57e0>"
      ]
     },
     "execution_count": 246,
     "metadata": {},
     "output_type": "execute_result"
    },
    {
     "data": {
      "image/png": "[encoded data removed]",
      "text/plain": [
       "<Figure size 640x480 with 3 Axes>"
      ]
     },
     "metadata": {},
     "output_type": "display_data"
    }
   ],
   "source": [
    "fig, axes = plt.subplots(1, 3)\n",
    "axes[0].imshow(patch_scores_new.reshape(8, 32, 32)[0])\n",
    "axes[1].imshow(patch_score_final[0])\n",
    "# axes[1].imshow(patch_scores.reshape(8, 32, 32, order='C')[2])\n",
    "\n",
    "axes[2].imshow(np.array(masks[0, 0]))"
   ]
  },
  {
   "cell_type": "code",
   "execution_count": null,
   "id": "9e927b5a",
   "metadata": {},
   "outputs": [],
   "source": []
  },
  {
   "cell_type": "code",
   "execution_count": 210,
   "id": "68b6770e",
   "metadata": {},
   "outputs": [
    {
     "data": {
      "text/plain": [
       "<matplotlib.image.AxesImage at 0x7feea0497d90>"
      ]
     },
     "execution_count": 210,
     "metadata": {},
     "output_type": "execute_result"
    },
    {
     "data": {
      "image/png": "[encoded data removed]",
      "text/plain": [
       "<Figure size 640x480 with 3 Axes>"
      ]
     },
     "metadata": {},
     "output_type": "display_data"
    }
   ],
   "source": [
    "fig, axes = plt.subplots(1, 3)\n",
    "axes[0].imshow(patch_scores_new.reshape(8, 32, 32)[0])\n",
    "axes[1].imshow(patch_scores_new[0].reshape(32, 32))\n",
    "axes[2].imshow(np.array(masks[0, 0]))"
   ]
  },
  {
   "cell_type": "code",
   "execution_count": 170,
   "id": "23865131",
   "metadata": {},
   "outputs": [],
   "source": []
  },
  {
   "cell_type": "code",
   "execution_count": 173,
   "id": "c7390d92",
   "metadata": {},
   "outputs": [
    {
     "data": {
      "text/plain": [
       "numpy.ndarray"
      ]
     },
     "execution_count": 173,
     "metadata": {},
     "output_type": "execute_result"
    }
   ],
   "source": [
    "type(raw_features)"
   ]
  },
  {
   "cell_type": "code",
   "execution_count": 174,
   "id": "24a6641d",
   "metadata": {},
   "outputs": [],
   "source": []
  },
  {
   "cell_type": "code",
   "execution_count": 186,
   "id": "9cdf6c83",
   "metadata": {},
   "outputs": [],
   "source": [
    "patch_scores_new = distances.min(0).values.numpy()"
   ]
  },
  {
   "cell_type": "code",
   "execution_count": 187,
   "id": "ecc02b44",
   "metadata": {},
   "outputs": [
    {
     "data": {
      "text/plain": [
       "array([0.02268801, 0.67212903, 0.57341474, ..., 0.04525501, 0.4377114 ,\n",
       "       0.05509362], dtype=float32)"
      ]
     },
     "execution_count": 187,
     "metadata": {},
     "output_type": "execute_result"
    }
   ],
   "source": [
    "patch_scores_new"
   ]
  },
  {
   "cell_type": "code",
   "execution_count": 185,
   "id": "ded93e0f",
   "metadata": {},
   "outputs": [
    {
     "data": {
      "text/plain": [
       "array([1.9594028, 2.4328144, 2.4564865, ..., 2.3861065, 2.394005 ,\n",
       "       1.9362416], dtype=float32)"
      ]
     },
     "execution_count": 185,
     "metadata": {},
     "output_type": "execute_result"
    }
   ],
   "source": [
    "patch_scores"
   ]
  },
  {
   "cell_type": "code",
   "execution_count": null,
   "id": "ad8da8ae",
   "metadata": {},
   "outputs": [],
   "source": [
    "_predict(algo_class.PatchCore_list[0], images)"
   ]
  },
  {
   "cell_type": "code",
   "execution_count": null,
   "id": "b5040f05",
   "metadata": {},
   "outputs": [],
   "source": [
    "features, patch_shapes = self._embed(images, provide_patch_shapes=True)\n",
    "features = np.asarray(features)"
   ]
  },
  {
   "cell_type": "code",
   "execution_count": 190,
   "id": "bc64423a",
   "metadata": {},
   "outputs": [],
   "source": [
    "patch_scores_new = self.patch_maker.unpatch_scores(\n",
    "    patch_scores_new, batchsize=images.shape[0]\n",
    ")"
   ]
  },
  {
   "cell_type": "code",
   "execution_count": null,
   "id": "8e7055d5",
   "metadata": {},
   "outputs": [],
   "source": []
  },
  {
   "cell_type": "code",
   "execution_count": null,
   "id": "c73a31aa",
   "metadata": {},
   "outputs": [],
   "source": [
    "patch_scores = self.patch_maker.unpatch_scores(\n",
    "    patch_scores, batchsize=images.shape[0]\n",
    ")"
   ]
  },
  {
   "cell_type": "code",
   "execution_count": 194,
   "id": "1561101d",
   "metadata": {},
   "outputs": [
    {
     "data": {
      "text/plain": [
       "<matplotlib.image.AxesImage at 0x7feea0ce7f10>"
      ]
     },
     "execution_count": 194,
     "metadata": {},
     "output_type": "execute_result"
    },
    {
     "data": {
      "image/png": "[encoded data removed]",
      "text/plain": [
       "<Figure size 640x480 with 1 Axes>"
      ]
     },
     "metadata": {},
     "output_type": "display_data"
    }
   ],
   "source": [
    "import matplotlib.pyplot as plt\n",
    "plt.imshow(patch_scores_new[0].reshape(32, 32))"
   ]
  },
  {
   "cell_type": "code",
   "execution_count": 193,
   "id": "262f3c46",
   "metadata": {},
   "outputs": [
    {
     "data": {
      "text/plain": [
       "<matplotlib.image.AxesImage at 0x7feea0c116c0>"
      ]
     },
     "execution_count": 193,
     "metadata": {},
     "output_type": "execute_result"
    },
    {
     "data": {
      "image/png": "[encoded data removed]",
      "text/plain": [
       "<Figure size 640x480 with 1 Axes>"
      ]
     },
     "metadata": {},
     "output_type": "display_data"
    }
   ],
   "source": [
    "import matplotlib.pyplot as plt\n",
    "plt.imshow(patch_scores[0].reshape(32, 32))"
   ]
  },
  {
   "cell_type": "code",
   "execution_count": 191,
   "id": "de203b4b",
   "metadata": {},
   "outputs": [
    {
     "data": {
      "text/plain": [
       "32.0"
      ]
     },
     "execution_count": 191,
     "metadata": {},
     "output_type": "execute_result"
    }
   ],
   "source": [
    "1024**0.5"
   ]
  },
  {
   "cell_type": "code",
   "execution_count": null,
   "id": "98b980dc",
   "metadata": {},
   "outputs": [],
   "source": [
    "patch_scores_new"
   ]
  },
  {
   "cell_type": "code",
   "execution_count": 189,
   "id": "eb870d27",
   "metadata": {},
   "outputs": [
    {
     "data": {
      "text/plain": [
       "(8, 1024)"
      ]
     },
     "execution_count": 189,
     "metadata": {},
     "output_type": "execute_result"
    }
   ],
   "source": [
    "patch_scores.shape"
   ]
  },
  {
   "cell_type": "code",
   "execution_count": null,
   "id": "89dc6b2c",
   "metadata": {},
   "outputs": [],
   "source": [
    "def _predict(self, images):\n",
    "    \"\"\"Infer score and mask for a batch of images.\"\"\"\n",
    "    images = images.to(torch.float).to(self.device)\n",
    "    _ = self.forward_modules.eval()\n",
    "\n",
    "    batchsize = images.shape[0]\n",
    "    with torch.no_grad():\n",
    "        features, patch_shapes = self._embed(images, provide_patch_shapes=True)\n",
    "        features = np.asarray(features)\n",
    "\n",
    "        patch_scores = image_scores = self.anomaly_scorer.predict([features])[0]\n",
    "        image_scores = self.patch_maker.unpatch_scores(\n",
    "            image_scores, batchsize=batchsize\n",
    "        )\n",
    "        image_scores = image_scores.reshape(*image_scores.shape[:2], -1)\n",
    "        image_scores = self.patch_maker.score(image_scores)\n",
    "\n",
    "        patch_scores = self.patch_maker.unpatch_scores(\n",
    "            patch_scores, batchsize=batchsize\n",
    "        )\n",
    "        scales = patch_shapes[0]\n",
    "        patch_scores = patch_scores.reshape(batchsize, scales[0], scales[1])\n",
    "\n",
    "        masks = self.anomaly_segmentor.convert_to_segmentation(patch_scores)\n",
    "\n",
    "    return torch.tensor(np.array(image_scores)), torch.tensor(np.array(masks))"
   ]
  },
  {
   "cell_type": "code",
   "execution_count": null,
   "id": "1392afbc",
   "metadata": {},
   "outputs": [],
   "source": []
  },
  {
   "cell_type": "code",
   "execution_count": null,
   "id": "b1c6900d",
   "metadata": {},
   "outputs": [],
   "source": []
  },
  {
   "cell_type": "code",
   "execution_count": 57,
   "id": "e2db85e2",
   "metadata": {},
   "outputs": [
    {
     "name": "stdout",
     "output_type": "stream",
     "text": [
      "features.shape torch.Size([214016, 128])\n"
     ]
    },
    {
     "name": "stderr",
     "output_type": "stream",
     "text": [
      "Subsampling...: 100%|█| 25000/25000 [00:18<0\n"
     ]
    },
    {
     "name": "stdout",
     "output_type": "stream",
     "text": [
      "CoresetSampler distance type:  euclidean\n",
      "FaissNN distance type:  euclidean\n",
      "len(loaded_patchcores): 1\n"
     ]
    }
   ],
   "source": []
  },
  {
   "cell_type": "code",
   "execution_count": 60,
   "id": "8e793fbd",
   "metadata": {},
   "outputs": [
    {
     "name": "stderr",
     "output_type": "stream",
     "text": [
      "100%|█████████| 3/3 [00:26<00:00,  8.85s/it]\n",
      "100%|█████████| 8/8 [01:22<00:00, 10.28s/it]\n"
     ]
    }
   ],
   "source": []
  },
  {
   "cell_type": "code",
   "execution_count": 61,
   "id": "e477fee3",
   "metadata": {},
   "outputs": [
    {
     "name": "stdout",
     "output_type": "stream",
     "text": [
      "Pixelwise_AUC:\n",
      "\tsegmentations: 0.9880018174242683\n",
      "\n",
      "Metric time taken:\n",
      "\n",
      "Pixelwise_AUC: 2.7s\n",
      "Not saved the metrics results\n"
     ]
    },
    {
     "data": {
      "text/plain": [
       "{'Pixelwise_AUC': {'metric_results': {'segmentations': 0.9880018174242683},\n",
       "  'metric_data': {'segmentations': {}}}}"
      ]
     },
     "execution_count": 61,
     "metadata": {},
     "output_type": "execute_result"
    }
   ],
   "source": []
  },
  {
   "cell_type": "code",
   "execution_count": null,
   "id": "899dfc34",
   "metadata": {},
   "outputs": [],
   "source": []
  },
  {
   "cell_type": "code",
   "execution_count": null,
   "id": "92e35aa1",
   "metadata": {},
   "outputs": [],
   "source": [
    "# make the unet perform a weighted combination\n",
    "#"
   ]
  }
 ],
 "metadata": {
  "kernelspec": {
   "display_name": "ad_env",
   "language": "python",
   "name": "ad_env"
  },
  "language_info": {
   "codemirror_mode": {
    "name": "ipython",
    "version": 3
   },
   "file_extension": ".py",
   "mimetype": "text/x-python",
   "name": "python",
   "nbconvert_exporter": "python",
   "pygments_lexer": "ipython3",
   "version": "3.10.12"
  }
 },
 "nbformat": 4,
 "nbformat_minor": 5
}
