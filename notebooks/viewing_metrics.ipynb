{
 "cells": [
  {
   "cell_type": "code",
   "execution_count": 1,
   "id": "a4d3f473",
   "metadata": {},
   "outputs": [],
   "source": [
    "import os\n",
    "import json\n",
    "import pandas as pd\n",
    "import torch\n",
    "import pandas as pd\n"
   ]
  },
  {
   "cell_type": "code",
   "execution_count": 5,
   "id": "97214977",
   "metadata": {},
   "outputs": [],
   "source": [
    "results_dir = os.path.join(\"..\", \"results\")"
   ]
  },
  {
   "cell_type": "code",
   "execution_count": 7,
   "id": "8f62cbdd",
   "metadata": {},
   "outputs": [],
   "source": [
    "def get_stats(dataset_key, run_key, result_key):\n",
    "    name_key = dataset_key+\"_\"+run_key\n",
    "    if run_key[-4:]==\"_rot\":\n",
    "        name = \"ultralytics_stats.json\"\n",
    "    else:\n",
    "        name = \"custom_stats.json\"\n",
    "    with open(os.path.join(results_dir, name_key, result_key, name), \"r\") as f:\n",
    "        stats = json.load(f)\n",
    "    return stats"
   ]
  },
  {
   "cell_type": "code",
   "execution_count": 12,
   "id": "be14e0da",
   "metadata": {},
   "outputs": [],
   "source": [
    "ls ../results/mvtec_bottle_test/standard"
   ]
  },
  {
   "cell_type": "code",
   "execution_count": 24,
   "id": "f3a3c437",
   "metadata": {},
   "outputs": [
    {
     "data": {
      "text/plain": [
       "{'metrics/precision(B)': 0.6746352162583753,\n",
       " 'metrics/recall(B)': 0.6268656716417911,\n",
       " 'metrics/mAP50(B)': 0.5922642796176565,\n",
       " 'metrics/mAP50-95(B)': 0.22945511467318308,\n",
       " 'fitness': 0.26573603116763045,\n",
       " 'metrics/precision(B)25': 0.8941485902677822,\n",
       " 'metrics/recall(B)25': 0.8955223880597015,\n",
       " 'metrics/mAP25(B)': 0.9187605338126119}"
      ]
     },
     "execution_count": 24,
     "metadata": {},
     "output_type": "execute_result"
    }
   ],
   "source": [
    "stats = get_stats(\"mvtec_bottle\", \"initial_run\", \"initial_results\")\n",
    "stats"
   ]
  },
  {
   "cell_type": "code",
   "execution_count": 23,
   "id": "c1bd5f56",
   "metadata": {},
   "outputs": [
    {
     "data": {
      "text/plain": [
       "{'metrics/precision(B)': 0.7269599990911466,\n",
       " 'metrics/recall(B)': 0.6567164179104478,\n",
       " 'metrics/mAP50(B)': 0.7220057578956306,\n",
       " 'metrics/mAP50-95(B)': 0.3487789972229137,\n",
       " 'fitness': 0.3861016732901854,\n",
       " 'metrics/precision(B)25': 0.62013,\n",
       " 'metrics/recall(B)25': 0.76119,\n",
       " 'metrics/mAP25(B)': 0.66044}"
      ]
     },
     "execution_count": 23,
     "metadata": {},
     "output_type": "execute_result"
    }
   ],
   "source": [
    "stats = get_stats(\"mvtec_bottle\", \"initial_run_rot\", \"initial_results\")\n",
    "stats"
   ]
  }
 ],
 "metadata": {
  "kernelspec": {
   "display_name": "Python 3 (ipykernel)",
   "language": "python",
   "name": "python3"
  },
  "language_info": {
   "codemirror_mode": {
    "name": "ipython",
    "version": 3
   },
   "file_extension": ".py",
   "mimetype": "text/x-python",
   "name": "python",
   "nbconvert_exporter": "python",
   "pygments_lexer": "ipython3",
   "version": "3.10.12"
  }
 },
 "nbformat": 4,
 "nbformat_minor": 5
}
